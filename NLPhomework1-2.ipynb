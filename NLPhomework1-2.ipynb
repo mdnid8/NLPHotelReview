{
 "cells": [
  {
   "cell_type": "markdown",
   "id": "62cf2122",
   "metadata": {},
   "source": [
    "# NLP Hotel Review\n"
   ]
  },
  {
   "cell_type": "code",
   "execution_count": null,
   "id": "ee6b84bf",
   "metadata": {},
   "outputs": [],
   "source": []
  },
  {
   "cell_type": "code",
   "execution_count": 117,
   "id": "e22b96b8",
   "metadata": {},
   "outputs": [],
   "source": [
    "import pandas as pd\n",
    "import numpy as np\n",
    "import matplotlib.pyplot as plt\n",
    "import seaborn as sns\n",
    "\n",
    "from sklearn.model_selection import train_test_split\n",
    "\n",
    "from sklearn.preprocessing import MinMaxScaler    #sets min to zero, max to 1.\n",
    "from sklearn.preprocessing import StandardScaler  #sets data to Z-scores\n",
    "from sklearn.preprocessing import RobustScaler    # new, see below\n",
    "\n",
    "\n",
    "from sklearn.neighbors import KNeighborsClassifier   # non-linear classifier"
   ]
  },
  {
   "cell_type": "code",
   "execution_count": 118,
   "id": "582f51f1",
   "metadata": {},
   "outputs": [],
   "source": [
    "import re\n",
    "import string\n",
    "\n",
    "# SK Packages\n",
    "from sklearn.linear_model import LogisticRegression\n",
    "from sklearn.model_selection import train_test_split\n",
    "\n",
    "## Vectorizers\n",
    "from sklearn.feature_extraction.text import CountVectorizer\n",
    "from sklearn.feature_extraction.text import TfidfVectorizer\n",
    "\n",
    "# NLTK\n",
    "import nltk\n",
    "\n",
    "import warnings\n",
    "warnings.filterwarnings('ignore')"
   ]
  },
  {
   "cell_type": "code",
   "execution_count": 119,
   "id": "34f7c9ab",
   "metadata": {},
   "outputs": [],
   "source": [
    "# NLTK Packages\n",
    "# Use the code below to download the NLTK package, a straightforward GUI should pop up\n",
    "# nltk.download()\n",
    "from nltk.corpus import stopwords\n",
    "from nltk.tokenize import word_tokenize\n",
    "from nltk.stem import PorterStemmer\n",
    "from nltk.stem import WordNetLemmatizer"
   ]
  },
  {
   "cell_type": "code",
   "execution_count": null,
   "id": "2394261b",
   "metadata": {},
   "outputs": [],
   "source": []
  },
  {
   "cell_type": "code",
   "execution_count": 120,
   "id": "ac5352c1",
   "metadata": {},
   "outputs": [],
   "source": [
    "df = pd.read_csv('/Users/stevekim/Desktop/python/NLP/Hotel_Reviews.csv')"
   ]
  },
  {
   "cell_type": "code",
   "execution_count": 121,
   "id": "9b4682d8",
   "metadata": {},
   "outputs": [],
   "source": [
    "df = df.sample(frac=0.1)"
   ]
  },
  {
   "cell_type": "code",
   "execution_count": 122,
   "id": "448a2450",
   "metadata": {},
   "outputs": [
    {
     "data": {
      "text/html": [
       "<div>\n",
       "<style scoped>\n",
       "    .dataframe tbody tr th:only-of-type {\n",
       "        vertical-align: middle;\n",
       "    }\n",
       "\n",
       "    .dataframe tbody tr th {\n",
       "        vertical-align: top;\n",
       "    }\n",
       "\n",
       "    .dataframe thead th {\n",
       "        text-align: right;\n",
       "    }\n",
       "</style>\n",
       "<table border=\"1\" class=\"dataframe\">\n",
       "  <thead>\n",
       "    <tr style=\"text-align: right;\">\n",
       "      <th></th>\n",
       "      <th>Negative_Review</th>\n",
       "      <th>Positive_Review</th>\n",
       "    </tr>\n",
       "  </thead>\n",
       "  <tbody>\n",
       "    <tr>\n",
       "      <th>301676</th>\n",
       "      <td>Nothing</td>\n",
       "      <td>Staff were friendly patient and helpful</td>\n",
       "    </tr>\n",
       "    <tr>\n",
       "      <th>293836</th>\n",
       "      <td>Air conditioning was too loud so couldn t hav...</td>\n",
       "      <td>Location is perfect Within easy walking dista...</td>\n",
       "    </tr>\n",
       "    <tr>\n",
       "      <th>125050</th>\n",
       "      <td>Drinks were very pricey Probably just London ...</td>\n",
       "      <td>Breakfasts were great Staff friendly and help...</td>\n",
       "    </tr>\n",
       "    <tr>\n",
       "      <th>323435</th>\n",
       "      <td>No Negative</td>\n",
       "      <td>Receptionists were friendly and helpful As a ...</td>\n",
       "    </tr>\n",
       "    <tr>\n",
       "      <th>467264</th>\n",
       "      <td>Poor customer service from reception Resturan...</td>\n",
       "      <td>It was close to the venue</td>\n",
       "    </tr>\n",
       "  </tbody>\n",
       "</table>\n",
       "</div>"
      ],
      "text/plain": [
       "                                          Negative_Review  \\\n",
       "301676                                            Nothing   \n",
       "293836   Air conditioning was too loud so couldn t hav...   \n",
       "125050   Drinks were very pricey Probably just London ...   \n",
       "323435                                        No Negative   \n",
       "467264   Poor customer service from reception Resturan...   \n",
       "\n",
       "                                          Positive_Review  \n",
       "301676            Staff were friendly patient and helpful  \n",
       "293836   Location is perfect Within easy walking dista...  \n",
       "125050   Breakfasts were great Staff friendly and help...  \n",
       "323435   Receptionists were friendly and helpful As a ...  \n",
       "467264                          It was close to the venue  "
      ]
     },
     "execution_count": 122,
     "metadata": {},
     "output_type": "execute_result"
    }
   ],
   "source": [
    "#top 5 rows only 'object' columns\n",
    "df.select_dtypes('object').head()"
   ]
  },
  {
   "cell_type": "code",
   "execution_count": 123,
   "id": "14f0012c",
   "metadata": {},
   "outputs": [],
   "source": [
    "X = df.drop(columns=['Reviewer_Score'])\n",
    "y = df['Reviewer_Score']"
   ]
  },
  {
   "cell_type": "code",
   "execution_count": 124,
   "id": "6488b909",
   "metadata": {},
   "outputs": [],
   "source": [
    "X_train, X_test, y_train, y_test=train_test_split(X, y,test_size=0.33)\n",
    "#train and test entire dataset\n"
   ]
  },
  {
   "cell_type": "code",
   "execution_count": 169,
   "id": "5feecc5e",
   "metadata": {},
   "outputs": [],
   "source": [
    "stop_words = stopwords.words('english')\n",
    "\n",
    "def my_tokenizers(document, lemmatization=False, stemming=True):\n",
    "    '''\n",
    "    Function for use in Vectorizer that tokenizes the document\n",
    "    '''\n",
    "    # remove punctuation\n",
    "    for punct in string.punctuation:\n",
    "        document=document.replace(punct,'')\n",
    "\n",
    "    # tokenize - split on whitespace\n",
    "    tokenized_document = document.split(' ')\n",
    "\n",
    "    # remove stopwords before stemming or lemmatization\n",
    "    tokenized_document = [word for word in tokenized_document if word not in stop_words]\n",
    "\n",
    "    if stemming==True:\n",
    "        stemmed_tokens_list = []\n",
    "        for i in tokenized_document:\n",
    "            token = PorterStemmer().stem(i)\n",
    "            stemmed_tokens_list.append(token)\n",
    "        return stemmed_tokens_list\n",
    "\n",
    "    if lemmatization==True:\n",
    "        lemmatized_tokens_list = []\n",
    "        for i in tokenized_document:\n",
    "            token = WordNetLemmatizer().lemmatize(i)\n",
    "            lemmatized_tokens_list.append(token)\n",
    "        return lemmatized_tokens_list\n",
    "\n",
    "    return tokenized_document"
   ]
  },
  {
   "cell_type": "code",
   "execution_count": 170,
   "id": "eb72c765",
   "metadata": {},
   "outputs": [
    {
     "name": "stdout",
     "output_type": "stream",
     "text": [
      "(34554, 500)\n",
      "(17020, 500)\n"
     ]
    }
   ],
   "source": [
    "# 1. Instantiate\n",
    "bagofwords_positive = CountVectorizer(tokenizer=my_tokenizer, min_df =10, max_features=500)# limit to 500 and mindf= 10\n",
    "#pass the tokenizer\n",
    "\n",
    "# 2. Fit for both positive and negative reviews\n",
    "bagofwords_positive.fit(X_train['Positive_Review'])\n",
    "\n",
    "\n",
    "# 3. Transform X_train and X_test using the fitted CountVectorizer object\n",
    "X_train_transformed_positive = bagofwords_positive.transform(X_train['Positive_Review'])\n",
    "X_test_transformed_positive = bagofwords_positive.transform(X_test['Positive_Review'])\n",
    "\n",
    "\n",
    "# Preview the shape of the transformed matrices\n",
    "print(X_train_transformed_positive.shape)\n",
    "print(X_test_transformed_positive.shape)\n"
   ]
  },
  {
   "cell_type": "code",
   "execution_count": 171,
   "id": "50c46d5b",
   "metadata": {},
   "outputs": [
    {
     "name": "stdout",
     "output_type": "stream",
     "text": [
      "(34554, 500)\n",
      "(17020, 500)\n"
     ]
    }
   ],
   "source": [
    "# 1. Instantiate\n",
    "bagofwords_negative = CountVectorizer(tokenizer=my_tokenizer, min_df =10, max_features=500)# limit to 500 and mindf= 10\n",
    "#pass the tokenizer\n",
    "\n",
    "# 2. Fit for negative reviews\n",
    "bagofwords_negative.fit(X_train['Negative_Review'])\n",
    "\n",
    "\n",
    "# 3. Transform X_train and X_test using the fitted CountVectorizer object\n",
    "X_train_transformed_negative = bagofwords_negative.transform(X_train['Negative_Review'])\n",
    "X_test_transformed_negative = bagofwords_negative.transform(X_test['Negative_Review'])\n",
    "\n",
    "# Preview the shape of the transformed matrices\n",
    "print(X_train_transformed_negative.shape)\n",
    "print(X_test_transformed_negative.shape)\n"
   ]
  },
  {
   "cell_type": "code",
   "execution_count": 172,
   "id": "2d0829c6",
   "metadata": {},
   "outputs": [],
   "source": [
    "#use pd.dataFrame add back the negative and positive review scores and drop the original data\n"
   ]
  },
  {
   "cell_type": "code",
   "execution_count": 174,
   "id": "f8b42fa0",
   "metadata": {},
   "outputs": [
    {
     "name": "stdout",
     "output_type": "stream",
     "text": [
      "        Unnamed: 0  Additional_Number_of_Scoring  Average_Score  \\\n",
      "93477        93477                           687            8.9   \n",
      "260905      260905                            36            8.9   \n",
      "146258      146258                           378            8.7   \n",
      "273660      273660                           269            8.0   \n",
      "341587      341587                           141            9.2   \n",
      "\n",
      "                                          Negative_Review  \\\n",
      "93477                                 Absolutely nothing    \n",
      "260905                                    bathroom design   \n",
      "146258   Facilities in room to be able to wake up and ...   \n",
      "273660       Brakefast needs improvments not good at all    \n",
      "341587                            slightly old fashioned    \n",
      "\n",
      "        Review_Total_Negative_Word_Counts  Total_Number_of_Reviews  \\\n",
      "93477                                   4                     2752   \n",
      "260905                                  3                      303   \n",
      "146258                                 16                     1543   \n",
      "273660                                  9                     2694   \n",
      "341587                                  5                      803   \n",
      "\n",
      "                                          Positive_Review  \\\n",
      "93477    The hotel was everything one could want for i...   \n",
      "260905                                        No Positive   \n",
      "146258   Perfect size bed and very comfy room was spac...   \n",
      "273660                        Roof top bar is really good   \n",
      "341587   Excellent location great that everything is i...   \n",
      "\n",
      "        Review_Total_Positive_Word_Counts  \\\n",
      "93477                                  88   \n",
      "260905                                  0   \n",
      "146258                                 11   \n",
      "273660                                  7   \n",
      "341587                                  8   \n",
      "\n",
      "        Total_Number_of_Reviews_Reviewer_Has_Given  Days_Since_Review  ...  \\\n",
      "93477                                            3                697  ...   \n",
      "260905                                          13                403  ...   \n",
      "146258                                           1                241  ...   \n",
      "273660                                           2                604  ...   \n",
      "341587                                          12                408  ...   \n",
      "\n",
      "        neg_window  neg_wish  neg_without  neg_work  neg_worn  neg_worst  \\\n",
      "93477            0         0            0         0         0          0   \n",
      "260905           0         0            0         0         0          0   \n",
      "146258           0         0            0         0         0          0   \n",
      "273660           0         0            0         0         0          0   \n",
      "341587           0         0            0         0         0          0   \n",
      "\n",
      "        neg_worth  neg_would  neg_wrong  neg_year  \n",
      "93477           0          0          0         0  \n",
      "260905          0          0          0         0  \n",
      "146258          0          0          0         0  \n",
      "273660          0          0          0         0  \n",
      "341587          0          0          0         0  \n",
      "\n",
      "[5 rows x 1029 columns]\n",
      "        Unnamed: 0  Additional_Number_of_Scoring  Average_Score  \\\n",
      "289783      289783                           301            8.8   \n",
      "75535        75535                          1195            8.3   \n",
      "207103      207103                           545            8.0   \n",
      "192670      192670                           338            9.0   \n",
      "89086        89086                           191            9.0   \n",
      "\n",
      "                                          Negative_Review  \\\n",
      "289783   The room was extremely small and cold it was ...   \n",
      "75535                                 Somewhat expensive    \n",
      "207103                                        No Negative   \n",
      "192670   The bright neon lights and the over priced rate    \n",
      "89086                                         No Negative   \n",
      "\n",
      "        Review_Total_Negative_Word_Counts  Total_Number_of_Reviews  \\\n",
      "289783                                 36                     1071   \n",
      "75535                                   4                     4684   \n",
      "207103                                  0                     2907   \n",
      "192670                                 11                     1241   \n",
      "89086                                   0                     1329   \n",
      "\n",
      "                                          Positive_Review  \\\n",
      "289783                                        No Positive   \n",
      "75535                                   Extra clean hotel   \n",
      "207103   The staff was VERY accomodating friendly and ...   \n",
      "192670                                        Thelocation   \n",
      "89086    Beautiful individual hotel comfortable rooms ...   \n",
      "\n",
      "        Review_Total_Positive_Word_Counts  \\\n",
      "289783                                  0   \n",
      "75535                                   4   \n",
      "207103                                 37   \n",
      "192670                                  2   \n",
      "89086                                  17   \n",
      "\n",
      "        Total_Number_of_Reviews_Reviewer_Has_Given  Days_Since_Review  ...  \\\n",
      "289783                                           2                583  ...   \n",
      "75535                                            2                128  ...   \n",
      "207103                                           1                296  ...   \n",
      "192670                                           1                635  ...   \n",
      "89086                                            4                606  ...   \n",
      "\n",
      "        neg_window  neg_wish  neg_without  neg_work  neg_worn  neg_worst  \\\n",
      "289783           0         0            0         0         0          0   \n",
      "75535            0         0            0         0         0          0   \n",
      "207103           0         0            0         0         0          0   \n",
      "192670           0         0            0         0         0          0   \n",
      "89086            0         0            0         0         0          0   \n",
      "\n",
      "        neg_worth  neg_would  neg_wrong  neg_year  \n",
      "289783          0          0          0         0  \n",
      "75535           0          0          0         0  \n",
      "207103          0          0          0         0  \n",
      "192670          0          0          0         0  \n",
      "89086           0          0          0         0  \n",
      "\n",
      "[5 rows x 1029 columns]\n"
     ]
    }
   ],
   "source": [
    "\n",
    "# Convert transformed train and test data to array and set into dataframe for positive\n",
    "train_positive = pd.DataFrame(data = X_train_transformed_positive.toarray(),columns = bagofwords_positive.get_feature_names_out(),index = X_train.index)\n",
    "test_positive = pd.DataFrame(data = X_test_transformed_positive.toarray(),columns = bagofwords_positive.get_feature_names_out(),index = X_test.index)\n",
    "\n",
    "\n",
    "# Convert transformed train and test data to array and set into dataframe for positive\n",
    "train_negative = pd.DataFrame(data = X_train_transformed_negative.toarray(), columns= bagofwords_negative.get_feature_names_out(),index = X_train.index)\n",
    "test_negative = pd.DataFrame(data = X_test_transformed_negative.toarray(), columns= bagofwords_negative.get_feature_names_out(),index = X_test.index)\n",
    "\n",
    "#Add prefix to the column for negative  train and test \n",
    "train_negative = train_negative.add_prefix('neg_')\n",
    "test_negative = test_negative.add_prefix('neg_')\n",
    "\n",
    "#Add prefix to the column for positive  train and test \n",
    "train_positive = train_positive.add_prefix('pos_')\n",
    "test_positive = test_positive.add_prefix('pos_')\n",
    "\n",
    "#Combine with the original DataFrames\n",
    "X_train_add_pos_neg = pd.concat([X_train, train_positive, train_negative], axis=1)\n",
    "X_test_add_pos_neg = pd.concat([X_test, test_positive, test_negative], axis=1)\n",
    "\n",
    "\n",
    "\n",
    "print(X_train_add_pos_neg.head())\n",
    "print(X_test_add_pos_neg.head())"
   ]
  },
  {
   "cell_type": "code",
   "execution_count": 175,
   "id": "feb455e3",
   "metadata": {},
   "outputs": [
    {
     "name": "stdout",
     "output_type": "stream",
     "text": [
      "Train Score for negative review: 0.7444868900850842\n",
      "Test Score for negative review: 0.7333725029377204\n"
     ]
    }
   ],
   "source": [
    "# Negative Review - Logistic Regression to predict negative review\n",
    "logreg = LogisticRegression(C = 0.1) #regularize\n",
    "logreg.fit(X_train_transformed_negative,y_train)\n",
    "\n",
    "#Training and test score\n",
    "print(f\"Train Score for negative review: {logreg.score(X_train_transformed_negative, y_train)}\")\n",
    "print(f\"Test Score for negative review: {logreg.score(X_test_transformed_negative, y_test)}\")"
   ]
  },
  {
   "cell_type": "code",
   "execution_count": 176,
   "id": "05f9a847",
   "metadata": {},
   "outputs": [
    {
     "name": "stdout",
     "output_type": "stream",
     "text": [
      "Train Score for positive review: 0.713983909243503\n",
      "Test Score for positive review: 0.7024676850763807\n"
     ]
    }
   ],
   "source": [
    "#Positive Review - Logistic Regression to predict positive review\n",
    "logreg = LogisticRegression(C = 0.1)\n",
    "logreg.fit(X_train_transformed_positive, y_train)\n",
    "\n",
    "print(f\"Train Score for positive review: {logreg.score(X_train_transformed_positive, y_train)}\")\n",
    "print(f\"Test Score for positive review: {logreg.score(X_test_transformed_positive, y_test)}\")"
   ]
  },
  {
   "cell_type": "markdown",
   "id": "170eeddf",
   "metadata": {},
   "source": [
    "Fit a logistic regression model on the data and analyze the test and train accuracy. Find the top 20 words from the positive reviews that are most predictive of a positive sentiment (Reviewer_Score = 1). Similarly, find the top 20 words from the negative reviews that are most predictive of a negative sentiment (Reviewer_Score = 0). What actionable insights can you draw from these?"
   ]
  },
  {
   "cell_type": "code",
   "execution_count": null,
   "id": "97fe37d6",
   "metadata": {},
   "outputs": [],
   "source": [
    "coefDf = pd.DataFrame({'variable':model.feature_names_in_, 'coef':model.coef_[0]}) #use this to extract the relevant information from logistic regrssion model"
   ]
  },
  {
   "cell_type": "code",
   "execution_count": null,
   "id": "158fb2fd",
   "metadata": {},
   "outputs": [],
   "source": []
  },
  {
   "cell_type": "code",
   "execution_count": null,
   "id": "27746aa8",
   "metadata": {},
   "outputs": [],
   "source": []
  },
  {
   "cell_type": "code",
   "execution_count": null,
   "id": "4ccd8a9d",
   "metadata": {},
   "outputs": [],
   "source": []
  },
  {
   "cell_type": "code",
   "execution_count": null,
   "id": "95cd2a51",
   "metadata": {},
   "outputs": [],
   "source": []
  },
  {
   "cell_type": "code",
   "execution_count": null,
   "id": "75a457c0",
   "metadata": {},
   "outputs": [],
   "source": []
  },
  {
   "cell_type": "code",
   "execution_count": null,
   "id": "13a9dadc",
   "metadata": {},
   "outputs": [],
   "source": []
  },
  {
   "cell_type": "code",
   "execution_count": null,
   "id": "eed72587",
   "metadata": {},
   "outputs": [],
   "source": []
  },
  {
   "cell_type": "code",
   "execution_count": null,
   "id": "e8e878a5",
   "metadata": {},
   "outputs": [],
   "source": []
  },
  {
   "cell_type": "code",
   "execution_count": null,
   "id": "dce13884",
   "metadata": {},
   "outputs": [],
   "source": []
  },
  {
   "cell_type": "code",
   "execution_count": null,
   "id": "00fceb02",
   "metadata": {},
   "outputs": [],
   "source": []
  },
  {
   "cell_type": "code",
   "execution_count": null,
   "id": "c2260fdb",
   "metadata": {},
   "outputs": [],
   "source": []
  }
 ],
 "metadata": {
  "kernelspec": {
   "display_name": "Python 3 (ipykernel)",
   "language": "python",
   "name": "python3"
  },
  "language_info": {
   "codemirror_mode": {
    "name": "ipython",
    "version": 3
   },
   "file_extension": ".py",
   "mimetype": "text/x-python",
   "name": "python",
   "nbconvert_exporter": "python",
   "pygments_lexer": "ipython3",
   "version": "3.11.5"
  }
 },
 "nbformat": 4,
 "nbformat_minor": 5
}
