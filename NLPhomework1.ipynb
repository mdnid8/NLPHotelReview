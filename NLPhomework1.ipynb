{
 "cells": [
  {
   "cell_type": "markdown",
   "id": "62cf2122",
   "metadata": {},
   "source": [
    "# NLP Hotel Review\n"
   ]
  },
  {
   "cell_type": "code",
   "execution_count": null,
   "id": "ee6b84bf",
   "metadata": {},
   "outputs": [],
   "source": []
  },
  {
   "cell_type": "code",
   "execution_count": 89,
   "id": "e22b96b8",
   "metadata": {},
   "outputs": [],
   "source": [
    "import pandas as pd\n",
    "import numpy as np\n",
    "import matplotlib.pyplot as plt\n",
    "import seaborn as sns\n",
    "\n",
    "from sklearn.model_selection import train_test_split\n",
    "\n",
    "from sklearn.preprocessing import MinMaxScaler    #sets min to zero, max to 1.\n",
    "from sklearn.preprocessing import StandardScaler  #sets data to Z-scores\n",
    "from sklearn.preprocessing import RobustScaler    # new, see below\n",
    "\n",
    "\n",
    "from sklearn.neighbors import KNeighborsClassifier   # non-linear classifier"
   ]
  },
  {
   "cell_type": "code",
   "execution_count": 90,
   "id": "582f51f1",
   "metadata": {},
   "outputs": [],
   "source": [
    "import re\n",
    "import string\n",
    "\n",
    "# SK Packages\n",
    "from sklearn.linear_model import LogisticRegression\n",
    "from sklearn.model_selection import train_test_split\n",
    "\n",
    "## Vectorizers\n",
    "from sklearn.feature_extraction.text import CountVectorizer\n",
    "from sklearn.feature_extraction.text import TfidfVectorizer\n",
    "\n",
    "# NLTK\n",
    "import nltk\n",
    "\n",
    "import warnings\n",
    "warnings.filterwarnings('ignore')"
   ]
  },
  {
   "cell_type": "code",
   "execution_count": 91,
   "id": "34f7c9ab",
   "metadata": {},
   "outputs": [],
   "source": [
    "# NLTK Packages\n",
    "# Use the code below to download the NLTK package, a straightforward GUI should pop up\n",
    "# nltk.download()\n",
    "from nltk.corpus import stopwords\n",
    "from nltk.tokenize import word_tokenize\n",
    "from nltk.stem import PorterStemmer\n",
    "from nltk.stem import WordNetLemmatizer"
   ]
  },
  {
   "cell_type": "code",
   "execution_count": null,
   "id": "2394261b",
   "metadata": {},
   "outputs": [],
   "source": []
  },
  {
   "cell_type": "code",
   "execution_count": 92,
   "id": "ac5352c1",
   "metadata": {},
   "outputs": [],
   "source": [
    "df = pd.read_csv('/Users/stevekim/Desktop/python/NLP/Hotel_Reviews.csv')"
   ]
  },
  {
   "cell_type": "code",
   "execution_count": 93,
   "id": "9b4682d8",
   "metadata": {},
   "outputs": [],
   "source": [
    "df = df.sample(frac=0.1)"
   ]
  },
  {
   "cell_type": "code",
   "execution_count": 94,
   "id": "448a2450",
   "metadata": {},
   "outputs": [
    {
     "data": {
      "text/html": [
       "<div>\n",
       "<style scoped>\n",
       "    .dataframe tbody tr th:only-of-type {\n",
       "        vertical-align: middle;\n",
       "    }\n",
       "\n",
       "    .dataframe tbody tr th {\n",
       "        vertical-align: top;\n",
       "    }\n",
       "\n",
       "    .dataframe thead th {\n",
       "        text-align: right;\n",
       "    }\n",
       "</style>\n",
       "<table border=\"1\" class=\"dataframe\">\n",
       "  <thead>\n",
       "    <tr style=\"text-align: right;\">\n",
       "      <th></th>\n",
       "      <th>Negative_Review</th>\n",
       "      <th>Positive_Review</th>\n",
       "    </tr>\n",
       "  </thead>\n",
       "  <tbody>\n",
       "    <tr>\n",
       "      <th>26940</th>\n",
       "      <td>The trainee reception staff were very inexper...</td>\n",
       "      <td>The grand building no history was offered by ...</td>\n",
       "    </tr>\n",
       "    <tr>\n",
       "      <th>489299</th>\n",
       "      <td>Door was inoperative Had to wait two hours to...</td>\n",
       "      <td>No Positive</td>\n",
       "    </tr>\n",
       "    <tr>\n",
       "      <th>3143</th>\n",
       "      <td>Bath room too small</td>\n",
       "      <td>Value for money</td>\n",
       "    </tr>\n",
       "    <tr>\n",
       "      <th>471676</th>\n",
       "      <td>No Negative</td>\n",
       "      <td>Very good value for money Friendly and helpfu...</td>\n",
       "    </tr>\n",
       "    <tr>\n",
       "      <th>258653</th>\n",
       "      <td>roomservice was disappointing</td>\n",
       "      <td>toilet was bigger than the room</td>\n",
       "    </tr>\n",
       "  </tbody>\n",
       "</table>\n",
       "</div>"
      ],
      "text/plain": [
       "                                          Negative_Review  \\\n",
       "26940    The trainee reception staff were very inexper...   \n",
       "489299   Door was inoperative Had to wait two hours to...   \n",
       "3143                                  Bath room too small   \n",
       "471676                                        No Negative   \n",
       "258653                      roomservice was disappointing   \n",
       "\n",
       "                                          Positive_Review  \n",
       "26940    The grand building no history was offered by ...  \n",
       "489299                                        No Positive  \n",
       "3143                                      Value for money  \n",
       "471676   Very good value for money Friendly and helpfu...  \n",
       "258653                    toilet was bigger than the room  "
      ]
     },
     "execution_count": 94,
     "metadata": {},
     "output_type": "execute_result"
    }
   ],
   "source": [
    "#top 5 rows only 'object' columns\n",
    "df.select_dtypes('object').head()"
   ]
  },
  {
   "cell_type": "code",
   "execution_count": 95,
   "id": "14f0012c",
   "metadata": {},
   "outputs": [],
   "source": [
    "X = df.drop(columns=['Reviewer_Score'])\n",
    "y = df['Reviewer_Score']"
   ]
  },
  {
   "cell_type": "code",
   "execution_count": 96,
   "id": "6488b909",
   "metadata": {},
   "outputs": [],
   "source": [
    "X_train, X_test, y_train, y_test=train_test_split(X, y,test_size=0.33)\n",
    "#train and test entire dataset\n"
   ]
  },
  {
   "cell_type": "code",
   "execution_count": 97,
   "id": "eb72c765",
   "metadata": {},
   "outputs": [
    {
     "name": "stdout",
     "output_type": "stream",
     "text": [
      "(34554, 500)\n",
      "(17020, 500)\n"
     ]
    }
   ],
   "source": [
    "# 1. Instantiate\n",
    "bagofwords_positive = CountVectorizer(stop_words=\"english\", min_df =10, max_features=500)# limit to 500 and mindf= 10\n",
    "#pass the tokenizer\n",
    "\n",
    "# 2. Fit for both positive and negative reviews\n",
    "bagofwords_positive.fit(X_train['Positive_Review'])\n",
    "\n",
    "\n",
    "# 3. Transform X_train and X_test using the fitted CountVectorizer object\n",
    "X_train_transformed_positive = bagofwords_positive.transform(X_train['Positive_Review'])\n",
    "X_test_transformed_positive = bagofwords_positive.transform(X_test['Positive_Review'])\n",
    "\n",
    "\n",
    "# Preview the shape of the transformed matrices\n",
    "print(X_train_transformed_positive.shape)\n",
    "print(X_test_transformed_positive.shape)\n"
   ]
  },
  {
   "cell_type": "code",
   "execution_count": 98,
   "id": "50c46d5b",
   "metadata": {},
   "outputs": [
    {
     "name": "stdout",
     "output_type": "stream",
     "text": [
      "(34554, 500)\n",
      "(17020, 500)\n"
     ]
    }
   ],
   "source": [
    "# 1. Instantiate\n",
    "bagofwords_negative = CountVectorizer(stop_words=\"english\", min_df =10, max_features=500)# limit to 500 and mindf= 10\n",
    "#pass the tokenizer\n",
    "\n",
    "# 2. Fit for negative reviews\n",
    "bagofwords_negative.fit(X_train['Negative_Review'])\n",
    "\n",
    "\n",
    "# 3. Transform X_train and X_test using the fitted CountVectorizer object\n",
    "X_train_transformed_negative = bagofwords_negative.transform(X_train['Negative_Review'])\n",
    "X_test_transformed_negative = bagofwords_negative.transform(X_test['Negative_Review'])\n",
    "\n",
    "# Preview the shape of the transformed matrices\n",
    "print(X_train_transformed_negative.shape)\n",
    "print(X_test_transformed_negative.shape)\n"
   ]
  },
  {
   "cell_type": "code",
   "execution_count": 99,
   "id": "2d0829c6",
   "metadata": {},
   "outputs": [],
   "source": [
    "#use pd.dataFrame add back the negative and positive review scores and drop the original data\n"
   ]
  },
  {
   "cell_type": "code",
   "execution_count": 100,
   "id": "f8b42fa0",
   "metadata": {},
   "outputs": [
    {
     "name": "stdout",
     "output_type": "stream",
     "text": [
      "   Unnamed: 0  Additional_Number_of_Scoring  Average_Score  \\\n",
      "0      307563                           973            8.0   \n",
      "1       19256                           788            8.5   \n",
      "2      401841                            71            7.9   \n",
      "3       17999                           129            9.1   \n",
      "4       81356                           126            8.6   \n",
      "\n",
      "                                     Negative_Review  \\\n",
      "0   The cooked breakfast was a slight let down Th...   \n",
      "1   Very busy pool not the hotel s fault but pool...   \n",
      "2            The staff at Pura beach were very rude    \n",
      "3                                           Nothing    \n",
      "4   Bathroom chilly no heat controls Nowhere to p...   \n",
      "\n",
      "   Review_Total_Negative_Word_Counts  Total_Number_of_Reviews  \\\n",
      "0                                 16                     4820   \n",
      "1                                180                     2635   \n",
      "2                                 10                      503   \n",
      "3                                  3                      473   \n",
      "4                                 16                      488   \n",
      "\n",
      "                                     Positive_Review  \\\n",
      "0   The hotel was beautiful It was spotless and c...   \n",
      "1   Clean hotel friendly cleaners see my comment ...   \n",
      "2                                        No Positive   \n",
      "3   Beautiful Property excellent location friendl...   \n",
      "4   Great central location Friendly staff Free Wifi    \n",
      "\n",
      "   Review_Total_Positive_Word_Counts  \\\n",
      "0                                 57   \n",
      "1                                 28   \n",
      "2                                  0   \n",
      "3                                 28   \n",
      "4                                  9   \n",
      "\n",
      "   Total_Number_of_Reviews_Reviewer_Has_Given  Days_Since_Review  ...  \\\n",
      "0                                           3                700  ...   \n",
      "1                                           1                422  ...   \n",
      "2                                           1                704  ...   \n",
      "3                                           1                593  ...   \n",
      "4                                           1                102  ...   \n",
      "\n",
      "   windows  work  worked  working  works  worn  worst  worth  wouldn  wrong  \n",
      "0        0     0       0        0      0     0      0      0       0      0  \n",
      "1        0     0       0        0      0     0      0      0       0      0  \n",
      "2        0     0       0        0      0     0      0      0       0      0  \n",
      "3        0     0       0        0      0     0      0      0       0      0  \n",
      "4        0     0       0        0      0     0      0      0       0      0  \n",
      "\n",
      "[5 rows x 1029 columns]\n"
     ]
    }
   ],
   "source": [
    "\n",
    "# Convert transformed train data to array and set into dataframe\n",
    "train_positive = pd.DataFrame(X_train_transformed_positive.toarray(),columns = bagofwords_positive.get_feature_names_out())\n",
    "train_negative = pd.DataFrame(X_train_transformed_negative.toarray(), columns= bagofwords_negative.get_feature_names_out())\n",
    "\n",
    "\n",
    "X_train_add_pos_neg = pd.concat([X_train.reset_index(drop=True), train_positive, train_negative], axis=1)\n",
    "\n",
    "print(X_train_add_pos_neg.head())"
   ]
  },
  {
   "cell_type": "code",
   "execution_count": 101,
   "id": "feb455e3",
   "metadata": {},
   "outputs": [
    {
     "name": "stdout",
     "output_type": "stream",
     "text": [
      "Train Score for negative review: 0.7432424610754181\n",
      "Test Score for negative review: 0.7354876615746181\n"
     ]
    }
   ],
   "source": [
    "# Negative Review - Logistic Regression to predict negative review\n",
    "logreg = LogisticRegression(C = 0.1) #regularize\n",
    "logreg.fit(X_train_transformed_negative,y_train)\n",
    "\n",
    "#Training and test score\n",
    "print(f\"Train Score for negative review: {logreg.score(X_train_transformed_negative, y_train)}\")\n",
    "print(f\"Test Score for negative review: {logreg.score(X_test_transformed_negative, y_test)}\")"
   ]
  },
  {
   "cell_type": "code",
   "execution_count": 102,
   "id": "05f9a847",
   "metadata": {},
   "outputs": [
    {
     "name": "stdout",
     "output_type": "stream",
     "text": [
      "Train Score for positive review: 0.6982693754702785\n",
      "Test Score for positive review: 0.6904230317273795\n"
     ]
    }
   ],
   "source": [
    "#Positive Review - Logistic Regression to predict positive review\n",
    "logreg = LogisticRegression(C = 0.1)\n",
    "logreg.fit(X_train_transformed_positive, y_train)\n",
    "\n",
    "print(f\"Train Score for positive review: {logreg.score(X_train_transformed_positive, y_train)}\")\n",
    "print(f\"Test Score for positive review: {logreg.score(X_test_transformed_positive, y_test)}\")"
   ]
  },
  {
   "cell_type": "code",
   "execution_count": null,
   "id": "12c73792",
   "metadata": {},
   "outputs": [],
   "source": []
  },
  {
   "cell_type": "code",
   "execution_count": null,
   "id": "97fe37d6",
   "metadata": {},
   "outputs": [],
   "source": []
  },
  {
   "cell_type": "code",
   "execution_count": null,
   "id": "158fb2fd",
   "metadata": {},
   "outputs": [],
   "source": []
  },
  {
   "cell_type": "code",
   "execution_count": null,
   "id": "27746aa8",
   "metadata": {},
   "outputs": [],
   "source": []
  },
  {
   "cell_type": "code",
   "execution_count": null,
   "id": "4ccd8a9d",
   "metadata": {},
   "outputs": [],
   "source": []
  },
  {
   "cell_type": "code",
   "execution_count": null,
   "id": "95cd2a51",
   "metadata": {},
   "outputs": [],
   "source": []
  },
  {
   "cell_type": "code",
   "execution_count": null,
   "id": "75a457c0",
   "metadata": {},
   "outputs": [],
   "source": []
  },
  {
   "cell_type": "code",
   "execution_count": null,
   "id": "13a9dadc",
   "metadata": {},
   "outputs": [],
   "source": []
  },
  {
   "cell_type": "code",
   "execution_count": null,
   "id": "eed72587",
   "metadata": {},
   "outputs": [],
   "source": []
  },
  {
   "cell_type": "code",
   "execution_count": null,
   "id": "e8e878a5",
   "metadata": {},
   "outputs": [],
   "source": []
  },
  {
   "cell_type": "code",
   "execution_count": null,
   "id": "dce13884",
   "metadata": {},
   "outputs": [],
   "source": []
  },
  {
   "cell_type": "code",
   "execution_count": null,
   "id": "00fceb02",
   "metadata": {},
   "outputs": [],
   "source": []
  },
  {
   "cell_type": "code",
   "execution_count": null,
   "id": "c2260fdb",
   "metadata": {},
   "outputs": [],
   "source": []
  }
 ],
 "metadata": {
  "kernelspec": {
   "display_name": "Python 3 (ipykernel)",
   "language": "python",
   "name": "python3"
  },
  "language_info": {
   "codemirror_mode": {
    "name": "ipython",
    "version": 3
   },
   "file_extension": ".py",
   "mimetype": "text/x-python",
   "name": "python",
   "nbconvert_exporter": "python",
   "pygments_lexer": "ipython3",
   "version": "3.11.5"
  }
 },
 "nbformat": 4,
 "nbformat_minor": 5
}
