{
 "cells": [
  {
   "cell_type": "markdown",
   "id": "62cf2122",
   "metadata": {},
   "source": [
    "# NLP Hotel Review\n"
   ]
  },
  {
   "cell_type": "code",
   "execution_count": 1,
   "id": "ee6b84bf",
   "metadata": {},
   "outputs": [],
   "source": [
    "#conda install -c conda-forge imbalanced-learn"
   ]
  },
  {
   "cell_type": "code",
   "execution_count": 2,
   "id": "e22b96b8",
   "metadata": {},
   "outputs": [],
   "source": [
    "import pandas as pd\n",
    "import numpy as np\n",
    "import matplotlib.pyplot as plt\n",
    "import seaborn as sns\n",
    "\n",
    "from sklearn.preprocessing import MinMaxScaler    #sets min to zero, max to 1.\n",
    "from sklearn.preprocessing import StandardScaler  #sets data to Z-scores\n",
    "from sklearn.preprocessing import RobustScaler    # new, see below\n",
    "from sklearn.decomposition import PCA\n",
    "from sklearn import svm\n",
    "\n",
    "\n",
    "from sklearn.neighbors import KNeighborsClassifier   # non-linear classifier"
   ]
  },
  {
   "cell_type": "code",
   "execution_count": 3,
   "id": "582f51f1",
   "metadata": {},
   "outputs": [],
   "source": [
    "import re\n",
    "import string\n",
    "\n",
    "# SK Packages\n",
    "from sklearn.linear_model import LogisticRegression\n",
    "from sklearn.model_selection import train_test_split\n",
    "\n",
    "## Vectorizers\n",
    "from sklearn.feature_extraction.text import CountVectorizer\n",
    "from sklearn.feature_extraction.text import TfidfVectorizer\n",
    "\n",
    "# NLTK\n",
    "import nltk\n",
    "\n",
    "import warnings\n",
    "warnings.filterwarnings('ignore')"
   ]
  },
  {
   "cell_type": "code",
   "execution_count": 4,
   "id": "34f7c9ab",
   "metadata": {},
   "outputs": [],
   "source": [
    "# NLTK Packages\n",
    "# Use the code below to download the NLTK package, a straightforward GUI should pop up\n",
    "# nltk.download()\n",
    "from nltk.corpus import stopwords\n",
    "from nltk.tokenize import word_tokenize\n",
    "from nltk.stem import PorterStemmer\n",
    "from nltk.stem import WordNetLemmatizer"
   ]
  },
  {
   "cell_type": "code",
   "execution_count": 5,
   "id": "2394261b",
   "metadata": {},
   "outputs": [],
   "source": [
    "from sklearn.tree import DecisionTreeClassifier\n",
    "from sklearn.pipeline import Pipeline\n",
    "from sklearn.preprocessing import MinMaxScaler\n",
    "from sklearn.model_selection import GridSearchCV"
   ]
  },
  {
   "cell_type": "code",
   "execution_count": 43,
   "id": "c0fa845c",
   "metadata": {},
   "outputs": [],
   "source": [
    "# metrics\n",
    "from sklearn.metrics import confusion_matrix, recall_score, precision_score, f1_score, roc_curve, roc_auc_score, precision_recall_curve,classification_report, average_precision_score, auc\n",
    "\n",
    "# SMOTE\n",
    "from imblearn.over_sampling import SMOTE"
   ]
  },
  {
   "cell_type": "code",
   "execution_count": null,
   "id": "0162f0fb",
   "metadata": {},
   "outputs": [],
   "source": []
  },
  {
   "cell_type": "code",
   "execution_count": 7,
   "id": "ac5352c1",
   "metadata": {},
   "outputs": [],
   "source": [
    "df = pd.read_csv('/Users/stevekim/Desktop/python/NLP/Hotel_Reviews.csv')"
   ]
  },
  {
   "cell_type": "code",
   "execution_count": 8,
   "id": "9b4682d8",
   "metadata": {},
   "outputs": [],
   "source": [
    "df = df.sample(frac=0.1)"
   ]
  },
  {
   "cell_type": "code",
   "execution_count": 9,
   "id": "448a2450",
   "metadata": {},
   "outputs": [
    {
     "data": {
      "text/html": [
       "<div>\n",
       "<style scoped>\n",
       "    .dataframe tbody tr th:only-of-type {\n",
       "        vertical-align: middle;\n",
       "    }\n",
       "\n",
       "    .dataframe tbody tr th {\n",
       "        vertical-align: top;\n",
       "    }\n",
       "\n",
       "    .dataframe thead th {\n",
       "        text-align: right;\n",
       "    }\n",
       "</style>\n",
       "<table border=\"1\" class=\"dataframe\">\n",
       "  <thead>\n",
       "    <tr style=\"text-align: right;\">\n",
       "      <th></th>\n",
       "      <th>Negative_Review</th>\n",
       "      <th>Positive_Review</th>\n",
       "    </tr>\n",
       "  </thead>\n",
       "  <tbody>\n",
       "    <tr>\n",
       "      <th>419954</th>\n",
       "      <td>I thought breakfast was included in my bookin...</td>\n",
       "      <td>Staff very helpful and friendly</td>\n",
       "    </tr>\n",
       "    <tr>\n",
       "      <th>144087</th>\n",
       "      <td>No face cloths hotel didn t umbrellas for loa...</td>\n",
       "      <td>Great location to take train to Paris great b...</td>\n",
       "    </tr>\n",
       "    <tr>\n",
       "      <th>174115</th>\n",
       "      <td>Old rooms with climatisation not working Need...</td>\n",
       "      <td>Very good location very nice staff very good ...</td>\n",
       "    </tr>\n",
       "    <tr>\n",
       "      <th>88401</th>\n",
       "      <td>My friend fell entering the terrace for tea a...</td>\n",
       "      <td>The bellman concierge and taxi fetcher were v...</td>\n",
       "    </tr>\n",
       "    <tr>\n",
       "      <th>372449</th>\n",
       "      <td>Access for a mobility scooter Too few teabags...</td>\n",
       "      <td>Bedrooms amazing Staff especially concierge a...</td>\n",
       "    </tr>\n",
       "  </tbody>\n",
       "</table>\n",
       "</div>"
      ],
      "text/plain": [
       "                                          Negative_Review  \\\n",
       "419954   I thought breakfast was included in my bookin...   \n",
       "144087   No face cloths hotel didn t umbrellas for loa...   \n",
       "174115   Old rooms with climatisation not working Need...   \n",
       "88401    My friend fell entering the terrace for tea a...   \n",
       "372449   Access for a mobility scooter Too few teabags...   \n",
       "\n",
       "                                          Positive_Review  \n",
       "419954                   Staff very helpful and friendly   \n",
       "144087   Great location to take train to Paris great b...  \n",
       "174115   Very good location very nice staff very good ...  \n",
       "88401    The bellman concierge and taxi fetcher were v...  \n",
       "372449   Bedrooms amazing Staff especially concierge a...  "
      ]
     },
     "execution_count": 9,
     "metadata": {},
     "output_type": "execute_result"
    }
   ],
   "source": [
    "#top 5 rows only 'object' columns\n",
    "df.select_dtypes('object').head()"
   ]
  },
  {
   "cell_type": "code",
   "execution_count": 10,
   "id": "14f0012c",
   "metadata": {},
   "outputs": [],
   "source": [
    "X = df.drop(columns=['Reviewer_Score'])\n",
    "y = df['Reviewer_Score']"
   ]
  },
  {
   "cell_type": "code",
   "execution_count": 11,
   "id": "6488b909",
   "metadata": {},
   "outputs": [],
   "source": [
    "X_train, X_test, y_train, y_test=train_test_split(X, y,test_size=0.33)\n",
    "#train and test entire dataset\n"
   ]
  },
  {
   "cell_type": "code",
   "execution_count": 16,
   "id": "ab0045a3",
   "metadata": {},
   "outputs": [],
   "source": [
    "stop_words = stopwords.words('english')\n",
    "\n",
    "def my_tokenizers(document, lemmatization=False, stemming=True):\n",
    "    '''\n",
    "    Function for use in Vectorizer that tokenizes the document\n",
    "    '''\n",
    "    # remove punctuation\n",
    "    for punct in string.punctuation:\n",
    "        document=document.replace(punct,'')\n",
    "\n",
    "    # tokenize - split on whitespace\n",
    "    tokenized_document = document.split(' ')\n",
    "\n",
    "    # remove stopwords before stemming or lemmatization\n",
    "    tokenized_document = [word for word in tokenized_document if word not in stop_words]\n",
    "\n",
    "    if stemming==True:\n",
    "        stemmed_tokens_list = []\n",
    "        for i in tokenized_document:\n",
    "            token = PorterStemmer().stem(i)\n",
    "            stemmed_tokens_list.append(token)\n",
    "        return stemmed_tokens_list\n",
    "\n",
    "    if lemmatization==True:\n",
    "        lemmatized_tokens_list = []\n",
    "        for i in tokenized_document:\n",
    "            token = WordNetLemmatizer().lemmatize(i)\n",
    "            lemmatized_tokens_list.append(token)\n",
    "        return lemmatized_tokens_list\n",
    "\n",
    "    return tokenized_document"
   ]
  },
  {
   "cell_type": "code",
   "execution_count": 63,
   "id": "eb72c765",
   "metadata": {},
   "outputs": [
    {
     "name": "stdout",
     "output_type": "stream",
     "text": [
      "(34554, 500)\n",
      "(17020, 500)\n"
     ]
    }
   ],
   "source": [
    "# 1. Instantiate\n",
    "bagofwords_positive = CountVectorizer(tokenizer=my_tokenizers, min_df =10, max_features=500)# limit to 500 and mindf= 10\n",
    "#pass the tokenizer\n",
    "\n",
    "# 2. Fit for both positive and negative reviews\n",
    "bagofwords_positive.fit(X_train['Positive_Review'])\n",
    "\n",
    "\n",
    "# 3. Transform X_train and X_test using the fitted CountVectorizer object\n",
    "X_train_transformed_positive = bagofwords_positive.transform(X_train['Positive_Review'])\n",
    "X_test_transformed_positive = bagofwords_positive.transform(X_test['Positive_Review'])\n",
    "\n",
    "\n",
    "# Preview the shape of the transformed matrices\n",
    "print(X_train_transformed_positive.shape)\n",
    "print(X_test_transformed_positive.shape)\n"
   ]
  },
  {
   "cell_type": "code",
   "execution_count": 64,
   "id": "50c46d5b",
   "metadata": {},
   "outputs": [
    {
     "name": "stdout",
     "output_type": "stream",
     "text": [
      "(34554, 500)\n",
      "(17020, 500)\n"
     ]
    }
   ],
   "source": [
    "# 1. Instantiate\n",
    "bagofwords_negative = CountVectorizer(tokenizer=my_tokenizers, min_df =10, max_features=500)# limit to 500 and mindf= 10\n",
    "#pass the tokenizer\n",
    "\n",
    "# 2. Fit for negative reviews\n",
    "bagofwords_negative.fit(X_train['Negative_Review'])\n",
    "\n",
    "\n",
    "# 3. Transform X_train and X_test using the fitted CountVectorizer object\n",
    "X_train_transformed_negative = bagofwords_negative.transform(X_train['Negative_Review'])\n",
    "X_test_transformed_negative = bagofwords_negative.transform(X_test['Negative_Review'])\n",
    "\n",
    "# Preview the shape of the transformed matrices\n",
    "print(X_train_transformed_negative.shape)\n",
    "print(X_test_transformed_negative.shape)\n"
   ]
  },
  {
   "cell_type": "code",
   "execution_count": 65,
   "id": "b3c443b3",
   "metadata": {},
   "outputs": [
    {
     "data": {
      "text/html": [
       "<div>\n",
       "<style scoped>\n",
       "    .dataframe tbody tr th:only-of-type {\n",
       "        vertical-align: middle;\n",
       "    }\n",
       "\n",
       "    .dataframe tbody tr th {\n",
       "        vertical-align: top;\n",
       "    }\n",
       "\n",
       "    .dataframe thead th {\n",
       "        text-align: right;\n",
       "    }\n",
       "</style>\n",
       "<table border=\"1\" class=\"dataframe\">\n",
       "  <thead>\n",
       "    <tr style=\"text-align: right;\">\n",
       "      <th></th>\n",
       "      <th>Additional_Number_of_Scoring</th>\n",
       "      <th>Average_Score</th>\n",
       "      <th>Review_Total_Negative_Word_Counts</th>\n",
       "      <th>Total_Number_of_Reviews</th>\n",
       "      <th>Review_Total_Positive_Word_Counts</th>\n",
       "      <th>Total_Number_of_Reviews_Reviewer_Has_Given</th>\n",
       "      <th>Days_Since_Review</th>\n",
       "      <th>Latitude</th>\n",
       "      <th>Longitude</th>\n",
       "      <th>Day</th>\n",
       "      <th>...</th>\n",
       "      <th>neg_wi</th>\n",
       "      <th>neg_wifi</th>\n",
       "      <th>neg_window</th>\n",
       "      <th>neg_without</th>\n",
       "      <th>neg_work</th>\n",
       "      <th>neg_worst</th>\n",
       "      <th>neg_worth</th>\n",
       "      <th>neg_would</th>\n",
       "      <th>neg_wrong</th>\n",
       "      <th>neg_year</th>\n",
       "    </tr>\n",
       "  </thead>\n",
       "  <tbody>\n",
       "    <tr>\n",
       "      <th>87307</th>\n",
       "      <td>660</td>\n",
       "      <td>8.4</td>\n",
       "      <td>0</td>\n",
       "      <td>2902</td>\n",
       "      <td>44</td>\n",
       "      <td>3</td>\n",
       "      <td>210</td>\n",
       "      <td>51.493980</td>\n",
       "      <td>-0.143372</td>\n",
       "      <td>5</td>\n",
       "      <td>...</td>\n",
       "      <td>0</td>\n",
       "      <td>0</td>\n",
       "      <td>0</td>\n",
       "      <td>0</td>\n",
       "      <td>0</td>\n",
       "      <td>0</td>\n",
       "      <td>0</td>\n",
       "      <td>0</td>\n",
       "      <td>0</td>\n",
       "      <td>0</td>\n",
       "    </tr>\n",
       "    <tr>\n",
       "      <th>229589</th>\n",
       "      <td>116</td>\n",
       "      <td>7.2</td>\n",
       "      <td>5</td>\n",
       "      <td>1201</td>\n",
       "      <td>0</td>\n",
       "      <td>1</td>\n",
       "      <td>721</td>\n",
       "      <td>48.888539</td>\n",
       "      <td>2.349846</td>\n",
       "      <td>13</td>\n",
       "      <td>...</td>\n",
       "      <td>0</td>\n",
       "      <td>0</td>\n",
       "      <td>0</td>\n",
       "      <td>0</td>\n",
       "      <td>0</td>\n",
       "      <td>0</td>\n",
       "      <td>0</td>\n",
       "      <td>0</td>\n",
       "      <td>0</td>\n",
       "      <td>0</td>\n",
       "    </tr>\n",
       "    <tr>\n",
       "      <th>240920</th>\n",
       "      <td>359</td>\n",
       "      <td>8.5</td>\n",
       "      <td>4</td>\n",
       "      <td>1158</td>\n",
       "      <td>22</td>\n",
       "      <td>3</td>\n",
       "      <td>422</td>\n",
       "      <td>51.507720</td>\n",
       "      <td>0.022981</td>\n",
       "      <td>7</td>\n",
       "      <td>...</td>\n",
       "      <td>0</td>\n",
       "      <td>0</td>\n",
       "      <td>0</td>\n",
       "      <td>0</td>\n",
       "      <td>0</td>\n",
       "      <td>0</td>\n",
       "      <td>0</td>\n",
       "      <td>0</td>\n",
       "      <td>0</td>\n",
       "      <td>0</td>\n",
       "    </tr>\n",
       "    <tr>\n",
       "      <th>71706</th>\n",
       "      <td>274</td>\n",
       "      <td>8.6</td>\n",
       "      <td>10</td>\n",
       "      <td>924</td>\n",
       "      <td>25</td>\n",
       "      <td>1</td>\n",
       "      <td>148</td>\n",
       "      <td>51.477858</td>\n",
       "      <td>-0.013746</td>\n",
       "      <td>8</td>\n",
       "      <td>...</td>\n",
       "      <td>0</td>\n",
       "      <td>0</td>\n",
       "      <td>0</td>\n",
       "      <td>0</td>\n",
       "      <td>0</td>\n",
       "      <td>0</td>\n",
       "      <td>0</td>\n",
       "      <td>1</td>\n",
       "      <td>0</td>\n",
       "      <td>0</td>\n",
       "    </tr>\n",
       "    <tr>\n",
       "      <th>210611</th>\n",
       "      <td>364</td>\n",
       "      <td>7.1</td>\n",
       "      <td>9</td>\n",
       "      <td>1877</td>\n",
       "      <td>4</td>\n",
       "      <td>3</td>\n",
       "      <td>640</td>\n",
       "      <td>51.536605</td>\n",
       "      <td>-0.191983</td>\n",
       "      <td>2</td>\n",
       "      <td>...</td>\n",
       "      <td>0</td>\n",
       "      <td>0</td>\n",
       "      <td>0</td>\n",
       "      <td>0</td>\n",
       "      <td>0</td>\n",
       "      <td>0</td>\n",
       "      <td>0</td>\n",
       "      <td>0</td>\n",
       "      <td>0</td>\n",
       "      <td>0</td>\n",
       "    </tr>\n",
       "  </tbody>\n",
       "</table>\n",
       "<p>5 rows × 1026 columns</p>\n",
       "</div>"
      ],
      "text/plain": [
       "        Additional_Number_of_Scoring  Average_Score  \\\n",
       "87307                            660            8.4   \n",
       "229589                           116            7.2   \n",
       "240920                           359            8.5   \n",
       "71706                            274            8.6   \n",
       "210611                           364            7.1   \n",
       "\n",
       "        Review_Total_Negative_Word_Counts  Total_Number_of_Reviews  \\\n",
       "87307                                   0                     2902   \n",
       "229589                                  5                     1201   \n",
       "240920                                  4                     1158   \n",
       "71706                                  10                      924   \n",
       "210611                                  9                     1877   \n",
       "\n",
       "        Review_Total_Positive_Word_Counts  \\\n",
       "87307                                  44   \n",
       "229589                                  0   \n",
       "240920                                 22   \n",
       "71706                                  25   \n",
       "210611                                  4   \n",
       "\n",
       "        Total_Number_of_Reviews_Reviewer_Has_Given  Days_Since_Review  \\\n",
       "87307                                            3                210   \n",
       "229589                                           1                721   \n",
       "240920                                           3                422   \n",
       "71706                                            1                148   \n",
       "210611                                           3                640   \n",
       "\n",
       "         Latitude  Longitude  Day  ...  neg_wi  neg_wifi  neg_window  \\\n",
       "87307   51.493980  -0.143372    5  ...       0         0           0   \n",
       "229589  48.888539   2.349846   13  ...       0         0           0   \n",
       "240920  51.507720   0.022981    7  ...       0         0           0   \n",
       "71706   51.477858  -0.013746    8  ...       0         0           0   \n",
       "210611  51.536605  -0.191983    2  ...       0         0           0   \n",
       "\n",
       "        neg_without  neg_work  neg_worst  neg_worth  neg_would  neg_wrong  \\\n",
       "87307             0         0          0          0          0          0   \n",
       "229589            0         0          0          0          0          0   \n",
       "240920            0         0          0          0          0          0   \n",
       "71706             0         0          0          0          1          0   \n",
       "210611            0         0          0          0          0          0   \n",
       "\n",
       "        neg_year  \n",
       "87307          0  \n",
       "229589         0  \n",
       "240920         0  \n",
       "71706          0  \n",
       "210611         0  \n",
       "\n",
       "[5 rows x 1026 columns]"
      ]
     },
     "execution_count": 65,
     "metadata": {},
     "output_type": "execute_result"
    }
   ],
   "source": [
    "\n",
    "# Convert transformed train and test data to array and set into dataframe for positive\n",
    "train_positive = pd.DataFrame(data = X_train_transformed_positive.toarray(),columns = bagofwords_positive.get_feature_names_out(),index = X_train.index)\n",
    "test_positive = pd.DataFrame(data = X_test_transformed_positive.toarray(),columns = bagofwords_positive.get_feature_names_out(),index = X_test.index)\n",
    "\n",
    "\n",
    "# Convert transformed train and test data to array and set into dataframe for positive\n",
    "train_negative = pd.DataFrame(data = X_train_transformed_negative.toarray(), columns= bagofwords_negative.get_feature_names_out(),index = X_train.index)\n",
    "test_negative = pd.DataFrame(data = X_test_transformed_negative.toarray(), columns= bagofwords_negative.get_feature_names_out(),index = X_test.index)\n",
    "\n",
    "#Add prefix to the column for negative  train and test \n",
    "train_negative = train_negative.add_prefix('neg_')\n",
    "test_negative = test_negative.add_prefix('neg_')\n",
    "\n",
    "#Add prefix to the column for positive  train and test \n",
    "train_positive = train_positive.add_prefix('pos_')\n",
    "test_positive = test_positive.add_prefix('pos_')\n",
    "\n",
    "#Combine with the original DataFrames\n",
    "X_train_add_pos_neg = pd.concat([X_train, train_positive, train_negative], axis=1)\n",
    "X_test_add_pos_neg = pd.concat([X_test, test_positive, test_negative], axis=1)\n",
    "\n",
    "#X_train_add_pos_neg = X_train_add_pos_neg.drop(X_train)\n",
    "#X_test_add_pos_neg = X_train_add_pos_neg.drop(X_test)\n",
    "#you can do: table_name.drop(columns=[‘revscore’,’unnamed’], inplace=True) or .drop([‘revscore’,’unnamed’], axis=1)\n",
    "#X_train_add_pos_neg.drop(columns=['Reviewer_Score', 'Unnamed: 0'], inplace=True)\n",
    "\n",
    "X_train_add_pos_neg.drop(columns=['Unnamed: 0'], inplace=True)\n",
    "X_test_add_pos_neg.drop(columns=['Unnamed: 0'], inplace=True)\n",
    "#drop unnamed and original df['Review']\n",
    "\n",
    "#drop the original positive and negative text columns\n",
    "X_train_add_pos_neg.drop(columns=['Negative_Review','Positive_Review'], inplace=True)\n",
    "X_test_add_pos_neg.drop(columns=['Negative_Review','Positive_Review'], inplace=True)\n",
    "\n",
    "\n",
    "\n",
    "\n",
    "\n",
    "#X_train_add_pos_neg.drop(columns='X_train', inplace=True)\n",
    "#X_test_add_pos_neg.drop(columns='X_train', inplace=True)\n",
    "#.drop(columns='Reviewer_Score', inplace=True)\n",
    "\n",
    "X_train_add_pos_neg.head()\n",
    "X_test_add_pos_neg.head()"
   ]
  },
  {
   "cell_type": "code",
   "execution_count": null,
   "id": "c9ff14de",
   "metadata": {},
   "outputs": [],
   "source": []
  },
  {
   "cell_type": "code",
   "execution_count": null,
   "id": "bd798f75",
   "metadata": {},
   "outputs": [],
   "source": []
  },
  {
   "cell_type": "code",
   "execution_count": 66,
   "id": "2d0829c6",
   "metadata": {},
   "outputs": [],
   "source": [
    "#use pd.dataFrame add back the negative and positive review scores and drop the original data\n"
   ]
  },
  {
   "cell_type": "code",
   "execution_count": 67,
   "id": "1922cd79",
   "metadata": {},
   "outputs": [
    {
     "name": "stdout",
     "output_type": "stream",
     "text": [
      "Train Score for positive and negative review: 0.7334896104647798\n",
      "Test Score for positive and negative review: 0.7363689776733255\n"
     ]
    }
   ],
   "source": [
    "#Positive Review - Logistic Regression to predict positive review\n",
    "logreg_pos_neg = LogisticRegression(C = 0.1)\n",
    "logreg_pos_neg.fit(X_train_add_pos_neg, y_train)\n",
    "\n",
    "print(f\"Train Score for positive and negative review: {logreg_pos_neg.score(X_train_add_pos_neg, y_train)}\")\n",
    "print(f\"Test Score for positive and negative review: {logreg_pos_neg.score(X_test_add_pos_neg, y_test)}\")"
   ]
  },
  {
   "cell_type": "code",
   "execution_count": 28,
   "id": "feb455e3",
   "metadata": {},
   "outputs": [
    {
     "name": "stdout",
     "output_type": "stream",
     "text": [
      "Train Score for negative review: 0.7485095792093535\n",
      "Test Score for negative review: 0.741069330199765\n"
     ]
    }
   ],
   "source": [
    "# Negative Review - Logistic Regression to predict negative review\n",
    "logreg_negative = LogisticRegression(C = 0.1) #regularize\n",
    "logreg_negative.fit(X_train_transformed_negative,y_train)\n",
    "\n",
    "# X_train_add_pos_neg \n",
    "\n",
    "#Training and test score\n",
    "print(f\"Train Score for negative review: {logreg_negative.score(X_train_transformed_negative, y_train)}\") #X_train_add_pos_neg\n",
    "print(f\"Test Score for negative review: {logreg_negative.score(X_test_transformed_negative, y_test)}\") # X_train_add_pos_neg test"
   ]
  },
  {
   "cell_type": "code",
   "execution_count": 29,
   "id": "05f9a847",
   "metadata": {},
   "outputs": [
    {
     "name": "stdout",
     "output_type": "stream",
     "text": [
      "Train Score for positive review: 0.7154309197198587\n",
      "Test Score for positive review: 0.7035252643948297\n"
     ]
    }
   ],
   "source": [
    "#Positive Review - Logistic Regression to predict positive review\n",
    "logreg_positive = LogisticRegression(C = 0.1)\n",
    "logreg_positive.fit(X_train_transformed_positive, y_train)\n",
    "\n",
    "print(f\"Train Score for positive review: {logreg_positive.score(X_train_transformed_positive, y_train)}\")\n",
    "print(f\"Test Score for positive review: {logreg_positive.score(X_test_transformed_positive, y_test)}\")"
   ]
  },
  {
   "cell_type": "markdown",
   "id": "5b2c3068",
   "metadata": {},
   "source": [
    "Fit a logistic regression model on the data and analyze the test and train accuracy. Find the top 20 words from the positive reviews that are most predictive of a positive sentiment (Reviewer_Score = 1). Similarly, find the top 20 words from the negative reviews that are most predictive of a negative sentiment (Reviewer_Score = 0). What actionable insights can you draw from these?"
   ]
  },
  {
   "cell_type": "code",
   "execution_count": 30,
   "id": "97fe37d6",
   "metadata": {},
   "outputs": [],
   "source": [
    "#coefDf = pd.DataFrame({'variable':model.feature_names_in_, 'coef':model.coef_[0]}) #use this to extract the relevant information from logistic regrssion model"
   ]
  },
  {
   "cell_type": "code",
   "execution_count": 68,
   "id": "158fb2fd",
   "metadata": {},
   "outputs": [
    {
     "ename": "TypeError",
     "evalue": "'Index' object is not callable",
     "output_type": "error",
     "traceback": [
      "\u001b[0;31m---------------------------------------------------------------------------\u001b[0m",
      "\u001b[0;31mTypeError\u001b[0m                                 Traceback (most recent call last)",
      "Cell \u001b[0;32mIn[68], line 6\u001b[0m\n\u001b[1;32m      2\u001b[0m \u001b[38;5;66;03m#feature name not the bagofwords\u001b[39;00m\n\u001b[1;32m      3\u001b[0m coef_pos \u001b[38;5;241m=\u001b[39m pd\u001b[38;5;241m.\u001b[39mDataFrame({\u001b[38;5;124m'\u001b[39m\u001b[38;5;124mvariable\u001b[39m\u001b[38;5;124m'\u001b[39m: bagofwords_positive\u001b[38;5;241m.\u001b[39mget_feature_names_out(), \u001b[38;5;124m'\u001b[39m\u001b[38;5;124mcoef\u001b[39m\u001b[38;5;124m'\u001b[39m: logreg_positive\u001b[38;5;241m.\u001b[39mcoef_[\u001b[38;5;241m0\u001b[39m]})\n\u001b[0;32m----> 6\u001b[0m coef_pos_neg \u001b[38;5;241m=\u001b[39m pd\u001b[38;5;241m.\u001b[39mDataFrame({\u001b[38;5;124m'\u001b[39m\u001b[38;5;124mvariable\u001b[39m\u001b[38;5;124m'\u001b[39m: X_train_add_pos_neg\u001b[38;5;241m.\u001b[39mcolumns(), \u001b[38;5;124m'\u001b[39m\u001b[38;5;124mcoef\u001b[39m\u001b[38;5;124m'\u001b[39m: X_train_add_pos_neg\u001b[38;5;241m.\u001b[39mcoef_[\u001b[38;5;241m0\u001b[39m]})\n\u001b[1;32m      7\u001b[0m \u001b[38;5;66;03m#X_train_add_pos_neg\u001b[39;00m\n\u001b[1;32m     17\u001b[0m top20_neg \u001b[38;5;241m=\u001b[39m coef_neg\u001b[38;5;241m.\u001b[39msort_values(by\u001b[38;5;241m=\u001b[39m\u001b[38;5;124m'\u001b[39m\u001b[38;5;124mcoef\u001b[39m\u001b[38;5;124m'\u001b[39m, ascending\u001b[38;5;241m=\u001b[39m\u001b[38;5;28;01mTrue\u001b[39;00m)\u001b[38;5;241m.\u001b[39mhead(\u001b[38;5;241m20\u001b[39m)\n",
      "\u001b[0;31mTypeError\u001b[0m: 'Index' object is not callable"
     ]
    }
   ],
   "source": [
    "coef_neg = pd.DataFrame({'variable': bagofwords_negative.get_feature_names_out(), 'coef': logreg_negative.coef_[0]})\n",
    "#feature name not the bagofwords\n",
    "coef_pos = pd.DataFrame({'variable': bagofwords_positive.get_feature_names_out(), 'coef': logreg_positive.coef_[0]})\n",
    "\n",
    "\n",
    "coef_pos_neg = pd.DataFrame({'variable': X_train_add_pos_neg.columns(), 'coef': X_train_add_pos_neg.coef_[0]})\n",
    "#X_train_add_pos_neg\n",
    "\n",
    "\n",
    "\n",
    "\n",
    "\n",
    "\n",
    "\n",
    "\n",
    "\n",
    "top20_neg = coef_neg.sort_values(by='coef', ascending=True).head(20)\n",
    "print(\"\\nTop 20 words predictive of Negative Sentiment:\\n\")\n",
    "print(top20_neg)\n",
    "\n",
    "\n",
    "top20_pos = coef_pos.sort_values(by='coef', ascending=False).head(20)\n",
    "print(\"\\nTop 20 words predictive of Positive Sentiment:\\n\")\n",
    "coef_pos\n",
    "\n",
    "#print(coef_pos2)"
   ]
  },
  {
   "cell_type": "code",
   "execution_count": 69,
   "id": "9746bc1a",
   "metadata": {},
   "outputs": [
    {
     "ename": "TypeError",
     "evalue": "'Index' object is not callable",
     "output_type": "error",
     "traceback": [
      "\u001b[0;31m---------------------------------------------------------------------------\u001b[0m",
      "\u001b[0;31mTypeError\u001b[0m                                 Traceback (most recent call last)",
      "Cell \u001b[0;32mIn[69], line 6\u001b[0m\n\u001b[1;32m      2\u001b[0m \u001b[38;5;66;03m#feature name not the bagofwords\u001b[39;00m\n\u001b[1;32m      3\u001b[0m coef_pos \u001b[38;5;241m=\u001b[39m pd\u001b[38;5;241m.\u001b[39mDataFrame({\u001b[38;5;124m'\u001b[39m\u001b[38;5;124mvariable\u001b[39m\u001b[38;5;124m'\u001b[39m: bagofwords_positive\u001b[38;5;241m.\u001b[39mget_feature_names_out(), \u001b[38;5;124m'\u001b[39m\u001b[38;5;124mcoef\u001b[39m\u001b[38;5;124m'\u001b[39m: logreg_positive\u001b[38;5;241m.\u001b[39mcoef_[\u001b[38;5;241m0\u001b[39m]})\n\u001b[0;32m----> 6\u001b[0m coef_pos_neg \u001b[38;5;241m=\u001b[39m pd\u001b[38;5;241m.\u001b[39mDataFrame({\u001b[38;5;124m'\u001b[39m\u001b[38;5;124mvariable\u001b[39m\u001b[38;5;124m'\u001b[39m: X_train_add_pos_neg\u001b[38;5;241m.\u001b[39mcolumns(), \u001b[38;5;124m'\u001b[39m\u001b[38;5;124mcoef\u001b[39m\u001b[38;5;124m'\u001b[39m: X_train_add_pos_neg\u001b[38;5;241m.\u001b[39mcoef_[\u001b[38;5;241m0\u001b[39m]})\n",
      "\u001b[0;31mTypeError\u001b[0m: 'Index' object is not callable"
     ]
    }
   ],
   "source": [
    "coef_neg = pd.DataFrame({'variable': bagofwords_negative.get_feature_names_out(), 'coef': logreg_negative.coef_[0]})\n",
    "#feature name not the bagofwords\n",
    "coef_pos = pd.DataFrame({'variable': bagofwords_positive.get_feature_names_out(), 'coef': logreg_positive.coef_[0]})\n",
    "\n",
    "\n",
    "coef_pos_neg = pd.DataFrame({'variable': X_train_add_pos_neg.columns(), 'coef': X_train_add_pos_neg.coef_[0]})\n",
    "#X_train_add_pos_neg\n",
    "\n"
   ]
  },
  {
   "cell_type": "code",
   "execution_count": 70,
   "id": "176db8c7",
   "metadata": {},
   "outputs": [
    {
     "data": {
      "text/html": [
       "<div>\n",
       "<style scoped>\n",
       "    .dataframe tbody tr th:only-of-type {\n",
       "        vertical-align: middle;\n",
       "    }\n",
       "\n",
       "    .dataframe tbody tr th {\n",
       "        vertical-align: top;\n",
       "    }\n",
       "\n",
       "    .dataframe thead th {\n",
       "        text-align: right;\n",
       "    }\n",
       "</style>\n",
       "<table border=\"1\" class=\"dataframe\">\n",
       "  <thead>\n",
       "    <tr style=\"text-align: right;\">\n",
       "      <th></th>\n",
       "      <th>variable</th>\n",
       "      <th>coef</th>\n",
       "    </tr>\n",
       "  </thead>\n",
       "  <tbody>\n",
       "    <tr>\n",
       "      <th>0</th>\n",
       "      <td>Additional_Number_of_Scoring</td>\n",
       "      <td>0.001316</td>\n",
       "    </tr>\n",
       "    <tr>\n",
       "      <th>1</th>\n",
       "      <td>Average_Score</td>\n",
       "      <td>0.184647</td>\n",
       "    </tr>\n",
       "    <tr>\n",
       "      <th>2</th>\n",
       "      <td>Review_Total_Negative_Word_Counts</td>\n",
       "      <td>-0.043206</td>\n",
       "    </tr>\n",
       "    <tr>\n",
       "      <th>3</th>\n",
       "      <td>Total_Number_of_Reviews</td>\n",
       "      <td>-0.000277</td>\n",
       "    </tr>\n",
       "    <tr>\n",
       "      <th>4</th>\n",
       "      <td>Review_Total_Positive_Word_Counts</td>\n",
       "      <td>0.047146</td>\n",
       "    </tr>\n",
       "    <tr>\n",
       "      <th>...</th>\n",
       "      <td>...</td>\n",
       "      <td>...</td>\n",
       "    </tr>\n",
       "    <tr>\n",
       "      <th>1021</th>\n",
       "      <td>neg_worst</td>\n",
       "      <td>-0.001076</td>\n",
       "    </tr>\n",
       "    <tr>\n",
       "      <th>1022</th>\n",
       "      <td>neg_worth</td>\n",
       "      <td>-0.001784</td>\n",
       "    </tr>\n",
       "    <tr>\n",
       "      <th>1023</th>\n",
       "      <td>neg_would</td>\n",
       "      <td>0.017890</td>\n",
       "    </tr>\n",
       "    <tr>\n",
       "      <th>1024</th>\n",
       "      <td>neg_wrong</td>\n",
       "      <td>-0.000243</td>\n",
       "    </tr>\n",
       "    <tr>\n",
       "      <th>1025</th>\n",
       "      <td>neg_year</td>\n",
       "      <td>-0.000408</td>\n",
       "    </tr>\n",
       "  </tbody>\n",
       "</table>\n",
       "<p>1026 rows × 2 columns</p>\n",
       "</div>"
      ],
      "text/plain": [
       "                               variable      coef\n",
       "0          Additional_Number_of_Scoring  0.001316\n",
       "1                         Average_Score  0.184647\n",
       "2     Review_Total_Negative_Word_Counts -0.043206\n",
       "3               Total_Number_of_Reviews -0.000277\n",
       "4     Review_Total_Positive_Word_Counts  0.047146\n",
       "...                                 ...       ...\n",
       "1021                          neg_worst -0.001076\n",
       "1022                          neg_worth -0.001784\n",
       "1023                          neg_would  0.017890\n",
       "1024                          neg_wrong -0.000243\n",
       "1025                           neg_year -0.000408\n",
       "\n",
       "[1026 rows x 2 columns]"
      ]
     },
     "execution_count": 70,
     "metadata": {},
     "output_type": "execute_result"
    }
   ],
   "source": [
    "coef_pos_neg"
   ]
  },
  {
   "cell_type": "code",
   "execution_count": 34,
   "id": "1b40ac0f",
   "metadata": {},
   "outputs": [],
   "source": [
    "#coef_pos_neg[coef_pos_neg['variable'].str.contains('pos_')].head(20).sort_values(by='coef', ascending=True)"
   ]
  },
  {
   "cell_type": "code",
   "execution_count": 72,
   "id": "612150b8",
   "metadata": {},
   "outputs": [
    {
     "name": "stdout",
     "output_type": "stream",
     "text": [
      "Top 20 Positive Coefficients:\n",
      "Empty DataFrame\n",
      "Columns: []\n",
      "Index: [0, 1, 2, 3, 4, 5, 6, 7, 8, 9, 10, 11, 12, 13, 14, 15, 16, 17, 18, 19, 20, 21, 22, 23, 24, 25, 26, 27, 28, 29, 30, 31, 32, 33, 34, 35, 36, 37, 38, 39, 40, 41, 42, 43, 44, 45, 46, 47, 48, 49, 50, 51, 52, 53, 54, 55, 56, 57, 58, 59, 60, 61, 62, 63, 64, 65, 66, 67, 68, 69, 70, 71, 72, 73, 74, 75, 76, 77, 78, 79, 80, 81, 82, 83, 84, 85, 86, 87, 88, 89, 90, 91, 92, 93, 94, 95, 96, 97, 98, 99, ...]\n",
      "\n",
      "[1026 rows x 0 columns]\n"
     ]
    }
   ],
   "source": [
    "# Assuming you have already trained your logistic regression model (logreg_pos_neg)\n",
    "# and have the transformed dataframes (train_positive, test_positive, train_negative, test_negative)\n",
    "\n",
    "# Create a DataFrame for coefficients\n",
    "coef_all = pd.DataFrame({'variable': X_train_add_pos_neg.columns, 'coef': logreg_pos_neg.coef_[0]})\n",
    "\n",
    "# Extract coefficients related to positive and negative sentiments\n",
    "#coef_pos = coef_all.filter(like='pos_')\n",
    "#coef_neg = coef_all.filter(like='neg_')\n",
    "\n",
    "#top20_pos = coef_pos.iloc[abs(coef_pos['coef']).argsort()[::-1][:20]]\n",
    "\n",
    "# Display the top 20 positive and negative coefficients\n",
    "print(\"Top 20 Positive Coefficients:\")\n",
    "print(coef_pos)\n",
    "\n",
    "\n"
   ]
  },
  {
   "cell_type": "code",
   "execution_count": 73,
   "id": "ca37ad07",
   "metadata": {},
   "outputs": [
    {
     "name": "stdout",
     "output_type": "stream",
     "text": [
      "Top 20 Positive Coefficients:\n",
      "                              variable      coef\n",
      "896                           neg_room -0.094838\n",
      "526                               neg_ -0.089863\n",
      "7                             Latitude -0.058361\n",
      "227                           pos_good -0.052114\n",
      "17          Reviewer_Nationality_Other -0.051860\n",
      "10                               Month -0.045337\n",
      "927                          neg_small -0.043704\n",
      "2    Review_Total_Negative_Word_Counts -0.043206\n",
      "358                          pos_posit -0.027928\n",
      "577                            neg_bed -0.021102\n",
      "284                          pos_locat -0.018835\n",
      "940                          neg_staff -0.018509\n",
      "576                       neg_bathroom -0.017414\n",
      "862                           neg_poor -0.015799\n",
      "836                            neg_old -0.013642\n",
      "437                        pos_station -0.013448\n",
      "610                          neg_clean -0.012665\n",
      "25                       Nights_Stayed -0.012452\n",
      "20                Hotel_Address_London -0.011927\n",
      "114                          pos_close -0.010938\n"
     ]
    }
   ],
   "source": [
    "coef_pos_neg = pd.DataFrame({'variable': X_train_add_pos_neg.columns, 'coef': logreg_pos_neg.coef_[0]})\n",
    "#X_train_add_pos_neg\n",
    "#print(coef_pos_neg)\n",
    "\n",
    "\n",
    "top20 = coef_pos_neg.sort_values(by='coef', ascending=True).head(20)\n",
    "# Extract coefficients related to positive and negative sentiments\n",
    "#coef_pos = coef_pos_neg.filter(like='pos_')\n",
    "#coef_neg = coef_pos_neg.filter(like='neg_')\n",
    "\n",
    "# Get top 20 positive and negative coefficients\n",
    "#top20_pos = coef_pos.loc[coef_pos['coef']].head(20)\n",
    "#top20_neg = coef_neg.loc['coef'].head(20)\n",
    "\n",
    "# Display the top 20 positive and negative coefficients\n",
    "print(\"Top 20 Positive Coefficients:\")\n",
    "\n",
    "print(top20)"
   ]
  },
  {
   "cell_type": "code",
   "execution_count": 74,
   "id": "95cd2a51",
   "metadata": {},
   "outputs": [
    {
     "data": {
      "image/png": "[encoded data removed]",
      "text/plain": [
       "<Figure size 1000x800 with 2 Axes>"
      ]
     },
     "metadata": {},
     "output_type": "display_data"
    }
   ],
   "source": [
    "#Copy and mimic the Model Analysis from NLP_preprocessing_kick_off lecture\n",
    "\n",
    "def plot_coefs(model, vectorizer):\n",
    "    # Create a DataFrame to store the coefficients and corresponding tokens\n",
    "    coef_df = pd.DataFrame({\"variable\": model.coef_[0], \"coef\": vectorizer.get_feature_names_out()})\n",
    "    \n",
    "    # Sort by coefficients\n",
    "    coef_df = coef_df.sort_values(\"variable\")\n",
    "\n",
    "    # Create a figure with 2 subplots\n",
    "    fig, axs = plt.subplots(2, 1, figsize=(10, 8))\n",
    "\n",
    "    # Plot tokens indicating negative sentiment with smallest coefficients\n",
    "    axs[0].bar(coef_df.head(20)[\"coef\"], coef_df.head(20)[\"variable\"], color=\"red\")\n",
    "    axs[0].set_xticklabels(coef_df.head(20)[\"coef\"], rotation=45)\n",
    "    axs[0].set_title(\"Negative indicators\")\n",
    "\n",
    "    # Plot tokens indicating positive sentiment with largest coefficients\n",
    "    axs[1].bar(coef_df.tail(20)[\"coef\"], coef_df.tail(20)[\"variable\"], color=\"blue\")\n",
    "    axs[1].set_xticklabels(coef_df.tail(20)[\"coef\"], rotation=45)\n",
    "    axs[1].set_title(\"Positive indicators\")\n",
    "\n",
    "    fig.tight_layout()\n",
    "    plt.show()\n",
    "\n",
    "\n",
    "plot_coefs(logreg_positive, bagofwords_positive)\n"
   ]
  },
  {
   "cell_type": "markdown",
   "id": "0baa8c28",
   "metadata": {},
   "source": [
    "Using a pipeline, combine PCA with a decision tree classifier.\n",
    "\n",
    "Optimize at least 3 hyperparameters including the maximum tree depth and the minimum number of data points required on each leaf node.\n",
    "You can use 20 principle components.\n",
    "The best parameters should be found using 5-fold cross validation.\n",
    "Contrast the best results here with the logistic regression model and provide any insights that you may draw from the results."
   ]
  },
  {
   "cell_type": "code",
   "execution_count": 38,
   "id": "ed09e80b",
   "metadata": {},
   "outputs": [],
   "source": [
    "from sklearn.metrics import accuracy_score"
   ]
  },
  {
   "cell_type": "code",
   "execution_count": 39,
   "id": "5ff3a085",
   "metadata": {},
   "outputs": [
    {
     "name": "stdout",
     "output_type": "stream",
     "text": [
      "Best hyperparameters: {'model__max_depth': 3, 'model__min_samples_leaf': 20, 'model__min_samples_split': 20, 'reduce_dim__n_components': 20}\n"
     ]
    }
   ],
   "source": [
    "# Create a pipeline with PCA and Decision Tree Classifier\n",
    "estimators = [\n",
    "    ('normalise', StandardScaler()),\n",
    "    ('reduce_dim', PCA()),\n",
    "    ('model', DecisionTreeClassifier())]\n",
    "\n",
    "pipe = Pipeline(estimators)\n",
    "\n",
    "# Define the hyperparameter grid\n",
    "param_grid = {\n",
    "    'reduce_dim__n_components': [20],\n",
    "    'model__max_depth': [1,2,3],\n",
    "    'model__min_samples_split': [2, 5, 10, 20],\n",
    "    'model__min_samples_leaf': [1, 5, 10, 20] #minimum number of data points required on each leaf node\n",
    "}\n",
    "\n",
    "# Use GridSearchCV for hyperparameter tuning with 5-fold cross-validation\n",
    "grid = GridSearchCV(pipe, param_grid, cv=5, error_score='raise')\n",
    "fittedgrid = grid.fit(X_train_add_pos_neg, y_train)\n",
    "\n",
    "#Best hyperparameters\n",
    "print(\"Best hyperparameters:\", fittedgrid.best_params_)\n"
   ]
  },
  {
   "cell_type": "code",
   "execution_count": 40,
   "id": "fdaa229e",
   "metadata": {},
   "outputs": [
    {
     "name": "stdout",
     "output_type": "stream",
     "text": [
      "Logistic Regression Accuracy: 0.7363689776733255\n",
      "Decision Tree Accuracy: 0.7240305522914219\n"
     ]
    }
   ],
   "source": [
    "pred_logreg = logreg_pos_neg.predict(X_test_add_pos_neg)\n",
    "pred_dt = fittedgrid.predict(X_test_add_pos_neg)\n",
    "\n",
    "# Compare performance metrics\n",
    "print(\"Logistic Regression Accuracy:\", accuracy_score(y_test, pred_logreg))\n",
    "print(\"Decision Tree Accuracy:\", accuracy_score(y_test, pred_dt))"
   ]
  },
  {
   "cell_type": "code",
   "execution_count": null,
   "id": "5bc7de12",
   "metadata": {},
   "outputs": [],
   "source": []
  },
  {
   "cell_type": "code",
   "execution_count": 41,
   "id": "af9a17f3",
   "metadata": {},
   "outputs": [
    {
     "name": "stdout",
     "output_type": "stream",
     "text": [
      "Best hyperparameters: {'model__max_depth': 5, 'model__min_samples_leaf': 10, 'model__min_samples_split': 20, 'reduce_dim__n_components': 20}\n"
     ]
    }
   ],
   "source": [
    "# Create a pipeline with PCA and Decision Tree Classifier\n",
    "estimators = [\n",
    "    ('normalise', StandardScaler()),\n",
    "    ('reduce_dim', PCA()),\n",
    "    ('model', DecisionTreeClassifier())]\n",
    "\n",
    "pipe = Pipeline(estimators)\n",
    "\n",
    "# Define the hyperparameter grid\n",
    "param_grid_max_depth = { #different max_depth level\n",
    "    'reduce_dim__n_components': [20],\n",
    "    'model__max_depth': [3,5,10], #different max depth for decision tree\n",
    "    'model__min_samples_split': [2, 5, 10, 20], #grid controls min number of samples required to split the node\n",
    "    'model__min_samples_leaf': [1, 5, 10, 20] #minimum number of data points required on each leaf node\n",
    "}\n",
    "\n",
    "# Use GridSearchCV for hyperparameter tuning with 5-fold cross-validation\n",
    "grid = GridSearchCV(pipe, param_grid_max_depth, cv=5, error_score='raise')\n",
    "fittedgrid = grid.fit(X_train_add_pos_neg, y_train)\n",
    "\n",
    "#Best hyperparameters\n",
    "print(\"Best hyperparameters:\", fittedgrid.best_params_)\n"
   ]
  },
  {
   "cell_type": "code",
   "execution_count": null,
   "id": "2f26d248",
   "metadata": {},
   "outputs": [],
   "source": []
  },
  {
   "cell_type": "markdown",
   "id": "fd7394d3",
   "metadata": {},
   "source": [
    "For your best performing model, conduct a more in-depth evaluation by analyzing the confusion matrix and commenting on the model errors and metrics such as precision and recall."
   ]
  },
  {
   "cell_type": "code",
   "execution_count": null,
   "id": "761086ac",
   "metadata": {},
   "outputs": [],
   "source": []
  },
  {
   "cell_type": "code",
   "execution_count": 44,
   "id": "fd644a0f",
   "metadata": {},
   "outputs": [
    {
     "name": "stdout",
     "output_type": "stream",
     "text": [
      "Confusion Matrix:\n",
      "[[4963 2258]\n",
      " [2225 7574]]\n",
      "Classification Report:\n",
      "              precision    recall  f1-score   support\n",
      "\n",
      "           0       0.69      0.69      0.69      7221\n",
      "           1       0.77      0.77      0.77      9799\n",
      "\n",
      "    accuracy                           0.74     17020\n",
      "   macro avg       0.73      0.73      0.73     17020\n",
      "weighted avg       0.74      0.74      0.74     17020\n",
      "\n"
     ]
    }
   ],
   "source": [
    "# Assuming fittedgrid is the best-performing model from your grid search\n",
    "best_model = fittedgrid.best_estimator_\n",
    "\n",
    "# Predictions on the test set\n",
    "y_pred = best_model.predict(X_test_add_pos_neg)\n",
    "\n",
    "# Confusion matrix\n",
    "conf_matrix = confusion_matrix(y_test, y_pred)\n",
    "print(\"Confusion Matrix:\")\n",
    "print(conf_matrix)\n",
    "\n",
    "# Classification report\n",
    "class_report = classification_report(y_test, y_pred)\n",
    "print(\"Classification Report:\")\n",
    "print(class_report)"
   ]
  },
  {
   "cell_type": "markdown",
   "id": "389a4c55",
   "metadata": {},
   "source": [
    "For your best performing model, conduct a more in-depth evaluation by analyzing the confusion matrix and commenting on the model errors and metrics such as precision and recall."
   ]
  },
  {
   "cell_type": "code",
   "execution_count": 45,
   "id": "13a9dadc",
   "metadata": {},
   "outputs": [
    {
     "name": "stdout",
     "output_type": "stream",
     "text": [
      "The absolute class distribution is: \n",
      "Reviewer_Score\n",
      "1    29427\n",
      "0    22147\n",
      "Name: count, dtype: int64\n",
      "\n",
      "The relative (%) class distribution is: \n",
      "Reviewer_Score\n",
      "1    57.05782\n",
      "0    42.94218\n",
      "Name: proportion, dtype: float64\n"
     ]
    }
   ],
   "source": [
    "print('The absolute class distribution is:', f'\\n{y.value_counts()}')\n",
    "print(f'\\nThe relative (%) class distribution is: \\n{y.value_counts(normalize=True)*100}')"
   ]
  },
  {
   "cell_type": "code",
   "execution_count": null,
   "id": "eed72587",
   "metadata": {},
   "outputs": [],
   "source": []
  },
  {
   "cell_type": "code",
   "execution_count": 75,
   "id": "1bc047c1",
   "metadata": {},
   "outputs": [],
   "source": [
    "from sklearn.metrics import ConfusionMatrixDisplay"
   ]
  },
  {
   "cell_type": "code",
   "execution_count": 76,
   "id": "866cf1db",
   "metadata": {},
   "outputs": [],
   "source": [
    "# Scaling using above features \n",
    "ss = StandardScaler().fit(X_train_add_pos_neg)\n",
    "X_train_ss = ss.transform(X_train_add_pos_neg)\n",
    "X_test_ss = ss.transform(X_test_add_pos_neg)\n",
    "\n",
    "#instantiate and fit\n",
    "logreg_ss = LogisticRegression().fit(X_train_add_pos_neg, y_train)"
   ]
  },
  {
   "cell_type": "code",
   "execution_count": 77,
   "id": "e97541f8",
   "metadata": {},
   "outputs": [
    {
     "name": "stdout",
     "output_type": "stream",
     "text": [
      "------------------------------------------\n",
      "Accuracy score: 75.6%\n",
      "Recall score: 73.0%\n",
      "Precision score: 82.3%\n",
      "F1 score: 0.77\n",
      "------------------------------------------\n"
     ]
    },
    {
     "data": {
      "image/png": "[encoded data removed]",
      "text/plain": [
       "<Figure size 640x480 with 2 Axes>"
      ]
     },
     "metadata": {},
     "output_type": "display_data"
    }
   ],
   "source": [
    "# predict classification\n",
    "y_test_pred = logreg_ss.predict(X_test_ss)\n",
    "\n",
    "print('------------------------------------------')\n",
    "\n",
    "print(f'Accuracy score: {logregs.score(X_test_ss, y_test)*100:0.1f}%')\n",
    "print(f'Recall score: {recall_score(y_test, y_test_pred)*100:0.1f}%')\n",
    "print(f'Precision score: {precision_score(y_test, y_test_pred)*100:0.1f}%')\n",
    "print(f'F1 score: {f1_score(y_test, y_test_pred):0.2f}')\n",
    "\n",
    "print('------------------------------------------')\n",
    "\n",
    "\n",
    "ConfusionMatrixDisplay.from_estimator(logreg_ss,X_test_ss, y_test); # optionally use normalize kwarg"
   ]
  },
  {
   "cell_type": "markdown",
   "id": "33f38b30",
   "metadata": {},
   "source": [
    "Accuracy Score: 75.6%\n",
    "\n",
    "This is the overall correct prediction rate. In your case, 75.6% of the reviews were correctly classified as either positive or negative.\n",
    "\n",
    "Recall Score: 73.0%\n",
    "\n",
    "Also known as Sensitivity or True Positive Rate. It's the percentage of actual positive instances (positive reviews) correctly predicted by the model. In your case, 73.0% of the actual positive reviews were correctly classified.\n",
    "\n",
    "Precision Score: 82.3%\n",
    "\n",
    "Precision is the number of true positives divided by the sum of true positives and false positives. It is a measure of the accuracy of the positive predictions. In your case, 82.3% of the predicted positive reviews were actually positive.\n",
    "\n",
    "F1 Score: 0.77\n",
    "\n",
    "The F1 Score is the harmonic mean of precision and recall. It is a balance between precision and recall. The F1 Score ranges from 0 to 1, where 1 is the best possible F1 Score. In your case, the F1 Score is 0.77, indicating a good balance between precision and recall.\n",
    "\n",
    "In summary, your model has good accuracy, recall, precision, and F1 Score, suggesting that it performs reasonably well in classifying positive and negative reviews. The confusion matrix visualization would provide more insights into True Positive, True Negative, False Positive, and False Negative counts, but unfortunately, it's not available in the provided snippet."
   ]
  },
  {
   "cell_type": "markdown",
   "id": "8aff8400",
   "metadata": {},
   "source": [
    "True Positives (TP):\n",
    "These are reviews that were correctly predicted as positive. In your case, the precision score indicates that around 82.3% of the predicted positive reviews were actually positive.\n",
    "True Negatives (TN):\n",
    "These are reviews that were correctly predicted as negative. Since precision and recall are more related to positive predictions, this information is not explicitly provided. However, it contributes to the overall accuracy score, which is 75.6%.\n",
    "False Positives (FP):\n",
    "These are reviews that were predicted as positive but were actually negative. Precision is sensitive to false positives, and the 17.7% error rate (100% - Precision) could indicate that there are some negative reviews misclassified as positive.\n",
    "False Negatives (FN):\n",
    "These are reviews that were predicted as negative but were actually positive. Recall is sensitive to false negatives, and the 27.0% recall score indicates that some actual positive reviews were missed by the model.\n",
    "Precision-Recall Trade-off:\n",
    "The precision and recall scores indicate a trade-off. A higher precision typically comes at the cost of lower recall, and vice versa. In your case, the precision score is higher than the recall score, suggesting a bias towards avoiding false positives.\n",
    "F1 Score:\n",
    "The F1 Score considers both precision and recall, providing a balance. A higher F1 Score indicates a better balance between avoiding false positives and false negatives. Your F1 Score of 0.77 is relatively good.\n",
    "Overall Assessment:\n",
    "The model performs well in terms of overall accuracy, precision, and F1 Score. However, it could be further analyzed to understand and potentially mitigate false positives and false negatives, depending on the specific business requirements.\n",
    "To provide more detailed insights, it would be helpful to see the confusion matrix, which breaks down the counts of true positives, true negatives, false positives, and false negatives."
   ]
  },
  {
   "cell_type": "code",
   "execution_count": null,
   "id": "db427178",
   "metadata": {},
   "outputs": [],
   "source": []
  },
  {
   "cell_type": "code",
   "execution_count": null,
   "id": "958a16ce",
   "metadata": {},
   "outputs": [],
   "source": []
  },
  {
   "cell_type": "code",
   "execution_count": 78,
   "id": "b956bc82",
   "metadata": {},
   "outputs": [],
   "source": [
    "smote = SMOTE(random_state=1)\n"
   ]
  },
  {
   "cell_type": "code",
   "execution_count": 79,
   "id": "38c81caa",
   "metadata": {},
   "outputs": [],
   "source": [
    "X_train_sm, y_train_sm = smote.fit_resample(X_train_add_pos_neg, y_train)"
   ]
  },
  {
   "cell_type": "code",
   "execution_count": 80,
   "id": "43e7b81d",
   "metadata": {},
   "outputs": [
    {
     "name": "stdout",
     "output_type": "stream",
     "text": [
      "Original class distribution\n"
     ]
    },
    {
     "data": {
      "text/plain": [
       "Reviewer_Score\n",
       "0    14926\n",
       "1    19628\n",
       "Name: count, dtype: int64"
      ]
     },
     "metadata": {},
     "output_type": "display_data"
    },
    {
     "name": "stdout",
     "output_type": "stream",
     "text": [
      "\n",
      "Resampled class distribution\n"
     ]
    },
    {
     "data": {
      "text/plain": [
       "Reviewer_Score\n",
       "0    19628\n",
       "1    19628\n",
       "Name: count, dtype: int64"
      ]
     },
     "metadata": {},
     "output_type": "display_data"
    }
   ],
   "source": [
    "# check what SMOTE has done\n",
    "\n",
    "print('Original class distribution')\n",
    "display(pd.Series(y_train).value_counts().sort_index())\n",
    "\n",
    "print('\\nResampled class distribution')\n",
    "display(pd.Series(y_train_sm).value_counts().sort_index())"
   ]
  },
  {
   "cell_type": "markdown",
   "id": "8b3a1150",
   "metadata": {},
   "source": [
    "#### Scale\n"
   ]
  },
  {
   "cell_type": "code",
   "execution_count": 82,
   "id": "e8e878a5",
   "metadata": {},
   "outputs": [],
   "source": [
    "# scale the sampled train data and the unsampled test data\n",
    "ss_sm = StandardScaler().fit(X_train_sm)\n",
    "X_train_sm_ss = ss_sm.transform(X_train_sm)\n",
    "X_test_ss_sm = ss_sm.transform(X_test_add_pos_neg)"
   ]
  },
  {
   "cell_type": "markdown",
   "id": "758d35e2",
   "metadata": {},
   "source": [
    "**Note**: Why did we choose to perform the sampling in between the train-test split and the scaling?\n",
    "\n",
    "- want to `fit_resample` just **train** and **not test data**\n",
    "- want to `fit_resample` the original, unscaled features to preserve the data distribution"
   ]
  },
  {
   "cell_type": "code",
   "execution_count": 83,
   "id": "5abd7af6",
   "metadata": {},
   "outputs": [],
   "source": [
    "# instantiate and fit to scaled & sampled training data\n",
    "logreg_sm = LogisticRegression(random_state=1, max_iter=15000).fit(X_train_sm_ss, y_train_sm)"
   ]
  },
  {
   "cell_type": "code",
   "execution_count": 85,
   "id": "703ab0e7",
   "metadata": {},
   "outputs": [
    {
     "name": "stdout",
     "output_type": "stream",
     "text": [
      "Accuracy score: 78.5%\n",
      "Recall score: 81.6%\n",
      "Precision score: 81.2%\n",
      "F1 score: 81.4%\n"
     ]
    },
    {
     "data": {
      "image/png": "[encoded data removed]",
      "text/plain": [
       "<Figure size 640x480 with 2 Axes>"
      ]
     },
     "metadata": {},
     "output_type": "display_data"
    }
   ],
   "source": [
    "# predict classification\n",
    "y_test_pred=logreg_sm.predict(X_test_ss_sm)\n",
    "\n",
    "# confusion matrix\n",
    "ConfusionMatrixDisplay.from_estimator(logreg_ss,X_test_ss, y_test);\n",
    "\n",
    "print(f'Accuracy score: {logreg_sm.score(X_test_ss_sm,y_test)*100:0.1f}%')\n",
    "print(f'Recall score: {recall_score(y_test,y_test_pred)*100:0.1f}%')\n",
    "print(f'Precision score: {precision_score(y_test,y_test_pred)*100:0.1f}%')\n",
    "print(f'F1 score: {f1_score(y_test,y_test_pred)*100:0.1f}%')"
   ]
  },
  {
   "cell_type": "markdown",
   "id": "c407e799",
   "metadata": {},
   "source": [
    "| |recall|precision|f1|\n",
    "|-|------|---------|--|\n",
    "|**logreg on unsampled data**|73.0%|82.3%|0.77%|\n",
    "|**logreg on SMOTE-sampled data**|81.6%|81.2%|0.81%|"
   ]
  },
  {
   "cell_type": "markdown",
   "id": "74d33ada",
   "metadata": {},
   "source": [
    "Training a logistic regression model on SMOTE-sampled training data provides an **increase in the recall**, but **the precision suffers greatly**.\n",
    "\n",
    "Why is this?  Remember what SMOTE is doing - it is creating synthetic minority class data \"within\" the existing minority class data.  The model thus learns more about the minority class, but also develops a kind of bias towards it as the variance in the minority class has become magnified.  A high recall score indicates that a model is very confident in classifying all data points that are truly of the minority class, which is what we're interested in with this dataset (fraudulent credit card transactions).  So, if we achieve that, we might have to live with the low precision.\n",
    "\n",
    "A business may assign dollar/pound amounts to a false positive (customer dissatisfaction) and false negative (missing a fraudulent occurance) to decide if precision or recall is more important. \n",
    "\n",
    "Remember the definition of precision: **of all the points that the model classified as positive (correctly *and* incorrectly), how many did the model *correctly* classify as positive?**  Also remember that the equation for precision contains FP in its denominator.  So, a low precision score indicates that we have many FPs!\n",
    "\n",
    "### Things to Consider\n",
    "\n",
    "- Effects of oversampling on the precision score\n",
    "- SMOTE \"draws\" a boundary in $n$-dimensional space ($n$ being the number of features you have) that surrounds the minority class, then creates synthetic data points within that boundary.  What if incoming new data has data points of the positive class, but in the feature space they lie outside of that boundary?"
   ]
  },
  {
   "cell_type": "markdown",
   "id": "ffdbddaa",
   "metadata": {},
   "source": [
    "Comparison:\n",
    "\n",
    "The model trained on SMOTE-sampled data shows improvements in recall, indicating better identification of positive instances, which is often crucial in imbalanced datasets.\n",
    "The precision is still relatively high, indicating that the model maintains a good level of accuracy in predicting positive instances without excessively classifying negatives as positives.\n",
    "The F1 score, being a combination of precision and recall, shows a balanced performance, considering both false positives and false negatives.\n",
    "In summary, using SMOTE sampling appears to have enhanced the model's ability to correctly identify positive instances, leading to a more balanced and effective classification model."
   ]
  },
  {
   "cell_type": "code",
   "execution_count": null,
   "id": "69fc79b9",
   "metadata": {},
   "outputs": [],
   "source": []
  },
  {
   "cell_type": "code",
   "execution_count": 89,
   "id": "ed05c05e",
   "metadata": {},
   "outputs": [
    {
     "data": {
      "image/png": "[encoded data removed]",
      "text/plain": [
       "<Figure size 1500x500 with 2 Axes>"
      ]
     },
     "metadata": {},
     "output_type": "display_data"
    }
   ],
   "source": [
    "plt.subplots(1,2,figsize=(15,5))\n",
    "plt.subplot(1,2,1)\n",
    "\n",
    "# probabilistic prediction\n",
    "y_test_proba = logreg_ss.predict_proba(X_test_ss)[:,1] # probabilities of data points being in the positive class\n",
    "\n",
    "fpr, tpr, thresholds = roc_curve(y_test, y_test_proba)\n",
    "roc_auc = roc_auc_score(y_test, y_test_proba)\n",
    "\n",
    "# plot\n",
    "sns.lineplot(x=fpr, y=tpr, color='red', lw=2, label=f'ROC (AUC = {roc_auc:0.2f})')\n",
    "sns.lineplot(x=[0, 1], y=[0, 1], color='black', lw=1, label='random guess') # random guess\n",
    "plt.xlabel('FPR (False Positive Rate)')\n",
    "plt.ylabel('Recall or TPR (True Positive Rate)')\n",
    "plt.title('ROC Curve for NLP Hotel Review - No Sampling')\n",
    "plt.legend(loc='best')\n",
    "\n",
    "\n",
    "plt.subplot(1,2,2)\n",
    "# probabilistic prediction\n",
    "y_test_proba_sm = logreg_sm.predict_proba(X_test_ss_sm)[:,1]\n",
    "\n",
    "fpr_sm, tpr_sm, thresholds = roc_curve(y_test, y_test_proba_sm)\n",
    "roc_auc_sm = roc_auc_score(y_test, y_test_proba_sm)\n",
    "\n",
    "sns.lineplot(x=fpr_sm, y=tpr_sm, color='red', lw=2, label=f'ROC (AUC = {roc_auc_sm:0.2f})')\n",
    "sns.lineplot(x=[0, 1], y=[0, 1], color='black', lw=1, label='random guess') # random guess\n",
    "plt.xlabel('FPR (False Positive Rate)')\n",
    "plt.ylabel('Recall or TPR(True Positive Rate)')\n",
    "plt.title('ROC Curve for NLP Hotel Review - SMOTE')\n",
    "plt.legend(loc=\"best\")\n",
    "\n",
    "plt.show()"
   ]
  },
  {
   "cell_type": "markdown",
   "id": "84547583",
   "metadata": {},
   "source": [
    "Remember what the threshold is - if the probabilistic prediction of a data point being in the positive class is at or greater than x threshold, then our hard classifier will assign that data point to the positive class.  e.g. if our threshold is 0.3, and the probability of a data point being in the positive class is 0.4, then the hard classification is that the data point is positive.\n",
    "\n",
    "Remember what the ROC curve represents - \"if I were to set my threshold at x, then our model would have a TPR of y, but we would have to live with an FPR of z\".\n",
    "- **A threshold of 0 is the point at the top right of the ROC curve** - we are intentionally classifying every data point as positive, thus we correctly classify all the true positive data points ($TPR = 100\\%$) but fail to correctly classify any of the true negative data points ($FPR = 100\\%$)\n",
    "- **A threshold of 1 is the point at the bottom left of the curve** - we are intentionally classifying every data point as negative, thus we correctly classify all the true negative data points ($FPR = 0\\%$) but fail to correctly classify any of the true positive data points ($TPR = 0\\%$)"
   ]
  },
  {
   "cell_type": "code",
   "execution_count": null,
   "id": "77c47569",
   "metadata": {},
   "outputs": [],
   "source": []
  },
  {
   "cell_type": "code",
   "execution_count": 90,
   "id": "430c367a",
   "metadata": {},
   "outputs": [
    {
     "name": "stdout",
     "output_type": "stream",
     "text": [
      "ROC-AUC with no sampling -- 0.8381\n",
      "ROC-AUC with SMOTE -- 0.8666\n"
     ]
    }
   ],
   "source": [
    "# probabilistic prediction\n",
    "y_test_proba = logreg_ss.predict_proba(X_test_ss)[:,1] # probabilities of data points being in the positive class\n",
    "roc_auc = roc_auc_score(y_test, y_test_proba)\n",
    "print(f'ROC-AUC with no sampling -- {roc_auc:.4f}')\n",
    "\n",
    "y_test_proba_sm = logreg_sm.predict_proba(X_test_ss_sm)[:,1] # probabilities of data points being in the positive class\n",
    "roc_auc_sm = roc_auc_score(y_test, y_test_proba_sm)\n",
    "print(f'ROC-AUC with SMOTE -- {roc_auc_sm:.4f}')"
   ]
  },
  {
   "cell_type": "markdown",
   "id": "90f27963",
   "metadata": {},
   "source": [
    "\n",
    "The ROC for both models has the same AUC - this is why it's important to evaluate your models using all applicable metrics. \n",
    "* AUC-ROC performs the best when the costs of false positives and false negatives are relatively similar, and there is no strong preference for improving one at the expense of the other. In our case, we prioritise the cost of a false negative over the cost of a false positive. Hence, AUC-ROC is likely not be a good metric of choice. \n",
    "* Additionally, AUC-ROC can provide misleading results when the class distribution is extremely skewed, in which case precision-recall curve is more useful"
   ]
  },
  {
   "cell_type": "code",
   "execution_count": null,
   "id": "d3061cde",
   "metadata": {},
   "outputs": [],
   "source": []
  },
  {
   "cell_type": "code",
   "execution_count": 93,
   "id": "114bbf1c",
   "metadata": {},
   "outputs": [
    {
     "data": {
      "image/png": "[encoded data removed]",
      "text/plain": [
       "<Figure size 1500x500 with 2 Axes>"
      ]
     },
     "metadata": {},
     "output_type": "display_data"
    }
   ],
   "source": [
    "plt.subplots(1,2,figsize=(15,5))\n",
    "plt.subplot(1,2,1)\n",
    "\n",
    "# probabilistic prediction\n",
    "y_test_proba = logreg_ss.predict_proba(X_test_ss)[:,1] # probabilities of data points being in the positive class\n",
    "\n",
    "# ROC arrays\n",
    "precision_, recall_, thresholds_ = precision_recall_curve(y_test, y_test_proba)\n",
    "\n",
    "# auc precision-recall\n",
    "aucpr = auc(recall_, precision_)\n",
    "\n",
    "sns.lineplot(x=recall_, y=precision_, color='red', lw=2, label=f'PR (AUC = {auc(recall_, precision_):0.2f})')\n",
    "# sns.lineplot([0, 1], [0, 1], color='black', lw=2, label='random guess') # random guess\n",
    "plt.xlabel('Recall')\n",
    "plt.ylabel('Precision')\n",
    "plt.title('PR Curve for NLP Hotel Review- no sampling')\n",
    "plt.legend(loc='best')\n",
    "\n",
    "plt.subplot(1,2,2)\n",
    "\n",
    "# probabilistic prediction\n",
    "y_test_proba_sm = logreg_sm.predict_proba(X_test_ss_sm)[:,1] # probabilities of data points being in the positive class\n",
    "\n",
    "# ROC arrays\n",
    "precision_sm, recall_sm, thresholds_ = precision_recall_curve(y_test, y_test_proba_sm)\n",
    "# auc precision-recall\n",
    "aucpr_sm = auc(recall_sm, precision_sm)\n",
    "\n",
    "sns.lineplot(x=recall_sm, y=precision_sm, color='red', lw=2, label=f'PR (AUC = {auc(recall_sm, precision_sm):0.2f})')\n",
    "# sns.lineplot(x=[0, 1], y=[0, 1], color='black', lw=2, label='random guess') # random guess\n",
    "plt.xlabel('Recall')\n",
    "plt.ylabel('Precision')\n",
    "plt.title('PR Curve for NLP Hotel Review - SMOTE')\n",
    "plt.legend(loc='best')\n",
    "\n",
    "plt.show()"
   ]
  },
  {
   "cell_type": "markdown",
   "id": "9a01c714",
   "metadata": {},
   "source": [
    "PR-AUC increased after applying SMOTE from 0.87 to 0.89, which indicates that after SMOTE model's recall and precision improved, pointing towards the effectiveness of SMOTE in addressing class imbalance and improving the model's predictive capabilities for the minority class. "
   ]
  },
  {
   "cell_type": "markdown",
   "id": "2769a5fb",
   "metadata": {},
   "source": [
    "PR-AUC (Precision-Recall Area Under the Curve) is a metric that measures the area under the precision-recall curve. It provides a summary of a model's performance across various levels of precision and recall.\n",
    "\n",
    "In your case, you mentioned that PR-AUC increased from 0.87 to 0.89 after applying SMOTE. Here's an explanation of what this change indicates:\n",
    "\n",
    "Improved Model Performance:\n",
    "The Precision-Recall curve represents the trade-off between precision and recall at different probability thresholds.\n",
    "An increase in PR-AUC from 0.87 to 0.89 suggests that the model's performance has improved after applying SMOTE.\n",
    "Better Handling of Class Imbalance:\n",
    "The improvement in PR-AUC indicates that SMOTE has been effective in addressing class imbalance.\n",
    "Class imbalance occurs when there is a significant difference in the number of instances between the minority and majority classes.\n",
    "SMOTE helps in oversampling the minority class, providing the model with more examples to learn from.\n",
    "Enhanced Recall and Precision:\n",
    "Recall and precision are crucial metrics, especially in imbalanced datasets.\n",
    "Recall (sensitivity) measures the ability of the model to capture instances of the minority class, while precision measures the accuracy of the positive predictions.\n",
    "An increase in PR-AUC suggests that both recall and precision have improved.\n",
    "Overall Predictive Capabilities:\n",
    "The higher PR-AUC after applying SMOTE indicates that the model's predictive capabilities for the minority class have been enhanced.\n",
    "It suggests that the model is now better at identifying positive instances while maintaining high precision.\n",
    "In summary, the increase in PR-AUC from 0.87 to 0.89 after applying SMOTE suggests an overall improvement in the model's ability to handle class imbalance, resulting in better recall and precision for the minority class. This is a positive outcome, indicating that SMOTE has contributed to the model's effectiveness in predicting instances of the minority class."
   ]
  },
  {
   "cell_type": "code",
   "execution_count": null,
   "id": "781bc53c",
   "metadata": {},
   "outputs": [],
   "source": []
  },
  {
   "cell_type": "code",
   "execution_count": null,
   "id": "00fceb02",
   "metadata": {},
   "outputs": [],
   "source": []
  },
  {
   "cell_type": "code",
   "execution_count": null,
   "id": "c2260fdb",
   "metadata": {},
   "outputs": [],
   "source": [
    "df['id'] = df.groupby(['Latitude', 'Longitude']).ngroup()"
   ]
  }
 ],
 "metadata": {
  "kernelspec": {
   "display_name": "Python 3 (ipykernel)",
   "language": "python",
   "name": "python3"
  },
  "language_info": {
   "codemirror_mode": {
    "name": "ipython",
    "version": 3
   },
   "file_extension": ".py",
   "mimetype": "text/x-python",
   "name": "python",
   "nbconvert_exporter": "python",
   "pygments_lexer": "ipython3",
   "version": "3.11.5"
  }
 },
 "nbformat": 4,
 "nbformat_minor": 5
}
